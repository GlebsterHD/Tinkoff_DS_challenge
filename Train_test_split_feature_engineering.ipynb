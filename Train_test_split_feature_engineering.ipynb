{
 "cells": [
  {
   "cell_type": "code",
   "execution_count": 225,
   "id": "aad58a14",
   "metadata": {},
   "outputs": [],
   "source": [
    "import numpy as np\n",
    "import pandas as pd\n",
    "import matplotlib.pyplot as plt\n",
    "%matplotlib inline\n",
    "\n",
    "import random\n",
    "\n",
    "from tqdm import tqdm"
   ]
  },
  {
   "cell_type": "code",
   "execution_count": 226,
   "id": "88112884",
   "metadata": {},
   "outputs": [],
   "source": [
    "RND_STATE = 777"
   ]
  },
  {
   "cell_type": "markdown",
   "id": "aceb0527",
   "metadata": {},
   "source": [
    "Поскольку в дальнейшем планируется сравнение различных типов моделей, нам необходимо разделить наши данные на три выборки:\n",
    "1. Тренировочная\n",
    "2. Валидационная\n",
    "3. Контрольная (тестовая)\n",
    "\n",
    "Данное разделение необходимо для того, чтобы избежать переобучения на контрольную выборку."
   ]
  },
  {
   "cell_type": "code",
   "execution_count": 227,
   "id": "28ca1354",
   "metadata": {},
   "outputs": [],
   "source": [
    "data = pd.read_csv('Data\\credit_train_processed.csv', encoding='cp1251', index_col=0)"
   ]
  },
  {
   "cell_type": "code",
   "execution_count": 228,
   "id": "e4df3859",
   "metadata": {},
   "outputs": [
    {
     "data": {
      "text/html": [
       "<div>\n",
       "<style scoped>\n",
       "    .dataframe tbody tr th:only-of-type {\n",
       "        vertical-align: middle;\n",
       "    }\n",
       "\n",
       "    .dataframe tbody tr th {\n",
       "        vertical-align: top;\n",
       "    }\n",
       "\n",
       "    .dataframe thead th {\n",
       "        text-align: right;\n",
       "    }\n",
       "</style>\n",
       "<table border=\"1\" class=\"dataframe\">\n",
       "  <thead>\n",
       "    <tr style=\"text-align: right;\">\n",
       "      <th></th>\n",
       "      <th>gender</th>\n",
       "      <th>age</th>\n",
       "      <th>marital_status</th>\n",
       "      <th>job_position</th>\n",
       "      <th>credit_sum</th>\n",
       "      <th>credit_month</th>\n",
       "      <th>tariff_id</th>\n",
       "      <th>score_shk</th>\n",
       "      <th>education</th>\n",
       "      <th>living_region</th>\n",
       "      <th>monthly_income</th>\n",
       "      <th>credit_count</th>\n",
       "      <th>overdue_credit_count</th>\n",
       "      <th>open_account_flg</th>\n",
       "    </tr>\n",
       "  </thead>\n",
       "  <tbody>\n",
       "    <tr>\n",
       "      <th>0</th>\n",
       "      <td>M</td>\n",
       "      <td>NaN</td>\n",
       "      <td>NaN</td>\n",
       "      <td>UMN</td>\n",
       "      <td>59998.00</td>\n",
       "      <td>10</td>\n",
       "      <td>1_6</td>\n",
       "      <td>NaN</td>\n",
       "      <td>GRD</td>\n",
       "      <td>КРАСНОДАРСКИЙ</td>\n",
       "      <td>30000.0</td>\n",
       "      <td>1.0</td>\n",
       "      <td>1.0</td>\n",
       "      <td>0</td>\n",
       "    </tr>\n",
       "    <tr>\n",
       "      <th>1</th>\n",
       "      <td>F</td>\n",
       "      <td>NaN</td>\n",
       "      <td>MAR</td>\n",
       "      <td>UMN</td>\n",
       "      <td>10889.00</td>\n",
       "      <td>6</td>\n",
       "      <td>1_1</td>\n",
       "      <td>NaN</td>\n",
       "      <td>NaN</td>\n",
       "      <td>МОСКВА</td>\n",
       "      <td>NaN</td>\n",
       "      <td>2.0</td>\n",
       "      <td>0.0</td>\n",
       "      <td>0</td>\n",
       "    </tr>\n",
       "    <tr>\n",
       "      <th>2</th>\n",
       "      <td>M</td>\n",
       "      <td>32.0</td>\n",
       "      <td>MAR</td>\n",
       "      <td>SPC</td>\n",
       "      <td>10728.00</td>\n",
       "      <td>12</td>\n",
       "      <td>1_1</td>\n",
       "      <td>NaN</td>\n",
       "      <td>NaN</td>\n",
       "      <td>САРАТОВСКАЯ</td>\n",
       "      <td>NaN</td>\n",
       "      <td>5.0</td>\n",
       "      <td>0.0</td>\n",
       "      <td>0</td>\n",
       "    </tr>\n",
       "    <tr>\n",
       "      <th>3</th>\n",
       "      <td>F</td>\n",
       "      <td>27.0</td>\n",
       "      <td>NaN</td>\n",
       "      <td>SPC</td>\n",
       "      <td>12009.09</td>\n",
       "      <td>12</td>\n",
       "      <td>1_1</td>\n",
       "      <td>NaN</td>\n",
       "      <td>NaN</td>\n",
       "      <td>ВОЛГОГРАДСКАЯ</td>\n",
       "      <td>NaN</td>\n",
       "      <td>2.0</td>\n",
       "      <td>0.0</td>\n",
       "      <td>0</td>\n",
       "    </tr>\n",
       "    <tr>\n",
       "      <th>4</th>\n",
       "      <td>M</td>\n",
       "      <td>45.0</td>\n",
       "      <td>NaN</td>\n",
       "      <td>SPC</td>\n",
       "      <td>NaN</td>\n",
       "      <td>10</td>\n",
       "      <td>1_1</td>\n",
       "      <td>0.421385</td>\n",
       "      <td>SCH</td>\n",
       "      <td>ЧЕЛЯБИНСКАЯ</td>\n",
       "      <td>NaN</td>\n",
       "      <td>1.0</td>\n",
       "      <td>0.0</td>\n",
       "      <td>0</td>\n",
       "    </tr>\n",
       "  </tbody>\n",
       "</table>\n",
       "</div>"
      ],
      "text/plain": [
       "  gender   age marital_status job_position  credit_sum  credit_month  \\\n",
       "0      M   NaN            NaN          UMN    59998.00            10   \n",
       "1      F   NaN            MAR          UMN    10889.00             6   \n",
       "2      M  32.0            MAR          SPC    10728.00            12   \n",
       "3      F  27.0            NaN          SPC    12009.09            12   \n",
       "4      M  45.0            NaN          SPC         NaN            10   \n",
       "\n",
       "  tariff_id  score_shk education  living_region  monthly_income  credit_count  \\\n",
       "0       1_6        NaN       GRD  КРАСНОДАРСКИЙ         30000.0           1.0   \n",
       "1       1_1        NaN       NaN         МОСКВА             NaN           2.0   \n",
       "2       1_1        NaN       NaN    САРАТОВСКАЯ             NaN           5.0   \n",
       "3       1_1        NaN       NaN  ВОЛГОГРАДСКАЯ             NaN           2.0   \n",
       "4       1_1   0.421385       SCH    ЧЕЛЯБИНСКАЯ             NaN           1.0   \n",
       "\n",
       "   overdue_credit_count  open_account_flg  \n",
       "0                   1.0                 0  \n",
       "1                   0.0                 0  \n",
       "2                   0.0                 0  \n",
       "3                   0.0                 0  \n",
       "4                   0.0                 0  "
      ]
     },
     "execution_count": 228,
     "metadata": {},
     "output_type": "execute_result"
    }
   ],
   "source": [
    "data.head()"
   ]
  },
  {
   "cell_type": "markdown",
   "id": "39552105",
   "metadata": {},
   "source": [
    "Разделим наши данные в соотношении 7:2:1."
   ]
  },
  {
   "cell_type": "code",
   "execution_count": 229,
   "id": "35230510",
   "metadata": {},
   "outputs": [],
   "source": [
    "train = data.sample(frac=0.7, random_state=RND_STATE).copy()\n",
    "\n",
    "valid = data.drop(train.index)\\\n",
    "             .sample(frac=0.66, random_state=RND_STATE).copy()\n",
    "\n",
    "test = data.drop(train.index).drop(valid.index).copy()"
   ]
  },
  {
   "cell_type": "code",
   "execution_count": 230,
   "id": "2bfaa829",
   "metadata": {},
   "outputs": [
    {
     "name": "stderr",
     "output_type": "stream",
     "text": [
      "100%|███████████████████████████████████████████████████████████████████████████████████| 3/3 [00:00<00:00, 188.01it/s]"
     ]
    },
    {
     "name": "stdout",
     "output_type": "stream",
     "text": [
      "0.70\n",
      "0.20\n",
      "0.10\n"
     ]
    },
    {
     "name": "stderr",
     "output_type": "stream",
     "text": [
      "\n"
     ]
    }
   ],
   "source": [
    "datasets = [train, valid, test]\n",
    "datasets_names = [\"Тренировочный\", \"Валидационный\", \"Контрольный\"]\n",
    "for df in tqdm(datasets):\n",
    "    print(f'{df.shape[0] / data.shape[0]:.2f}')"
   ]
  },
  {
   "cell_type": "markdown",
   "id": "e7c8b822",
   "metadata": {},
   "source": [
    "# Импутация пропусков\n",
    "\n",
    "Давайте посмотрим количество пропусков по каждой переменной в наших наборах данных."
   ]
  },
  {
   "cell_type": "code",
   "execution_count": 231,
   "id": "93f638da",
   "metadata": {},
   "outputs": [],
   "source": [
    "omission_info = pd.DataFrame(dict(zip(datasets_names, [df.isnull().sum() for df in datasets])))"
   ]
  },
  {
   "cell_type": "code",
   "execution_count": 232,
   "id": "95d2408e",
   "metadata": {},
   "outputs": [
    {
     "data": {
      "text/html": [
       "<div>\n",
       "<style scoped>\n",
       "    .dataframe tbody tr th:only-of-type {\n",
       "        vertical-align: middle;\n",
       "    }\n",
       "\n",
       "    .dataframe tbody tr th {\n",
       "        vertical-align: top;\n",
       "    }\n",
       "\n",
       "    .dataframe thead th {\n",
       "        text-align: right;\n",
       "    }\n",
       "</style>\n",
       "<table border=\"1\" class=\"dataframe\">\n",
       "  <thead>\n",
       "    <tr style=\"text-align: right;\">\n",
       "      <th></th>\n",
       "      <th>Тренировочный</th>\n",
       "      <th>Валидационный</th>\n",
       "      <th>Контрольный</th>\n",
       "    </tr>\n",
       "  </thead>\n",
       "  <tbody>\n",
       "    <tr>\n",
       "      <th>gender</th>\n",
       "      <td>0</td>\n",
       "      <td>0</td>\n",
       "      <td>0</td>\n",
       "    </tr>\n",
       "    <tr>\n",
       "      <th>age</th>\n",
       "      <td>1</td>\n",
       "      <td>1</td>\n",
       "      <td>1</td>\n",
       "    </tr>\n",
       "    <tr>\n",
       "      <th>marital_status</th>\n",
       "      <td>2</td>\n",
       "      <td>1</td>\n",
       "      <td>0</td>\n",
       "    </tr>\n",
       "    <tr>\n",
       "      <th>job_position</th>\n",
       "      <td>0</td>\n",
       "      <td>0</td>\n",
       "      <td>0</td>\n",
       "    </tr>\n",
       "    <tr>\n",
       "      <th>credit_sum</th>\n",
       "      <td>1</td>\n",
       "      <td>0</td>\n",
       "      <td>1</td>\n",
       "    </tr>\n",
       "    <tr>\n",
       "      <th>credit_month</th>\n",
       "      <td>0</td>\n",
       "      <td>0</td>\n",
       "      <td>0</td>\n",
       "    </tr>\n",
       "    <tr>\n",
       "      <th>tariff_id</th>\n",
       "      <td>0</td>\n",
       "      <td>0</td>\n",
       "      <td>0</td>\n",
       "    </tr>\n",
       "    <tr>\n",
       "      <th>score_shk</th>\n",
       "      <td>5</td>\n",
       "      <td>1</td>\n",
       "      <td>1</td>\n",
       "    </tr>\n",
       "    <tr>\n",
       "      <th>education</th>\n",
       "      <td>5</td>\n",
       "      <td>0</td>\n",
       "      <td>0</td>\n",
       "    </tr>\n",
       "    <tr>\n",
       "      <th>living_region</th>\n",
       "      <td>144</td>\n",
       "      <td>29</td>\n",
       "      <td>19</td>\n",
       "    </tr>\n",
       "    <tr>\n",
       "      <th>monthly_income</th>\n",
       "      <td>5</td>\n",
       "      <td>0</td>\n",
       "      <td>0</td>\n",
       "    </tr>\n",
       "    <tr>\n",
       "      <th>credit_count</th>\n",
       "      <td>6525</td>\n",
       "      <td>1795</td>\n",
       "      <td>910</td>\n",
       "    </tr>\n",
       "    <tr>\n",
       "      <th>overdue_credit_count</th>\n",
       "      <td>6525</td>\n",
       "      <td>1795</td>\n",
       "      <td>910</td>\n",
       "    </tr>\n",
       "    <tr>\n",
       "      <th>open_account_flg</th>\n",
       "      <td>0</td>\n",
       "      <td>0</td>\n",
       "      <td>0</td>\n",
       "    </tr>\n",
       "  </tbody>\n",
       "</table>\n",
       "</div>"
      ],
      "text/plain": [
       "                      Тренировочный  Валидационный  Контрольный\n",
       "gender                            0              0            0\n",
       "age                               1              1            1\n",
       "marital_status                    2              1            0\n",
       "job_position                      0              0            0\n",
       "credit_sum                        1              0            1\n",
       "credit_month                      0              0            0\n",
       "tariff_id                         0              0            0\n",
       "score_shk                         5              1            1\n",
       "education                         5              0            0\n",
       "living_region                   144             29           19\n",
       "monthly_income                    5              0            0\n",
       "credit_count                   6525           1795          910\n",
       "overdue_credit_count           6525           1795          910\n",
       "open_account_flg                  0              0            0"
      ]
     },
     "execution_count": 232,
     "metadata": {},
     "output_type": "execute_result"
    }
   ],
   "source": [
    "omission_info"
   ]
  },
  {
   "cell_type": "markdown",
   "id": "faae8e9e",
   "metadata": {},
   "source": [
    "Пропуски в переменных будем проводить различными способами в зависимости от типа рассматриваемой переменной (категориальной или количественной). \n",
    "\n",
    "В случае *категориальной* переменной заполнение будем проводить <ins>модой</ins> **тренировочного** набора.\n",
    "\n",
    "В случае *количественной* переменной заполнение проводится в зависимости от типа ее распределения (симметричный, ассиметричный):\n",
    "* симметричный - можно воспользоваться <ins>средним</ins> значением **тренировочного** набора. Например, для параметра `age`.\n",
    "* ассиметричный - лучше пользоваться <ins>медианой</ins> **тренировочного** набора, чтобы избежать влияния \"черных лебедей\".\n",
    "\n",
    "Также можно заполнить значением выходящим за диапазон непропущенных значений, например, большим отрицательным числом."
   ]
  },
  {
   "cell_type": "markdown",
   "id": "cccfed3b",
   "metadata": {},
   "source": [
    "## Количественные переменные"
   ]
  },
  {
   "cell_type": "code",
   "execution_count": 233,
   "id": "dc26c9af",
   "metadata": {},
   "outputs": [
    {
     "name": "stdout",
     "output_type": "stream",
     "text": [
      "Количественные переменные: ['age' 'credit_sum' 'credit_month' 'score_shk' 'monthly_income'\n",
      " 'credit_count' 'overdue_credit_count' 'open_account_flg']\n"
     ]
    }
   ],
   "source": [
    "print(f'Количественные переменные: {test.dtypes[test.dtypes != object].index.values}')"
   ]
  },
  {
   "cell_type": "code",
   "execution_count": 234,
   "id": "66def21b",
   "metadata": {},
   "outputs": [
    {
     "name": "stderr",
     "output_type": "stream",
     "text": [
      "100%|███████████████████████████████████████████████████████████████████████████████████| 4/4 [00:00<00:00, 111.41it/s]\n"
     ]
    }
   ],
   "source": [
    "# Заполняем пропуски в переменных 'age', 'credit_sum', 'score_shk', 'monthly_income'\n",
    "# медианой тренировочного набора.\n",
    "for col in tqdm(['age', 'credit_sum', 'score_shk', 'monthly_income']):\n",
    "    for df in datasets:\n",
    "        df[col].fillna(train[col].median(), inplace=True)"
   ]
  },
  {
   "cell_type": "code",
   "execution_count": 235,
   "id": "4a5d63ff",
   "metadata": {},
   "outputs": [
    {
     "name": "stderr",
     "output_type": "stream",
     "text": [
      "100%|███████████████████████████████████████████████████████████████████████████████████| 2/2 [00:00<00:00, 668.41it/s]\n"
     ]
    }
   ],
   "source": [
    "# Для переменных 'credit_count' и 'overdue_credit_count' заполним пропуски значением -1\n",
    "for col in tqdm(['credit_count', 'overdue_credit_count']):\n",
    "    for df in datasets:\n",
    "        df[col].fillna(-1, inplace=True)"
   ]
  },
  {
   "cell_type": "markdown",
   "id": "be05a957",
   "metadata": {},
   "source": [
    "## Категориальные переменные"
   ]
  },
  {
   "cell_type": "code",
   "execution_count": 236,
   "id": "22d841a9",
   "metadata": {},
   "outputs": [
    {
     "name": "stdout",
     "output_type": "stream",
     "text": [
      "Категориальные переменные: ['gender' 'marital_status' 'job_position' 'tariff_id' 'education'\n",
      " 'living_region']\n"
     ]
    }
   ],
   "source": [
    "print(f'Категориальные переменные: {test.dtypes[test.dtypes == object].index.values}')"
   ]
  },
  {
   "cell_type": "code",
   "execution_count": 237,
   "id": "6ca4b2fe",
   "metadata": {},
   "outputs": [],
   "source": [
    "need_to_fix_categorical = omission_info.loc[test.dtypes[test.dtypes == object].index]\\\n",
    "                                        .sum(axis=1) > 0"
   ]
  },
  {
   "cell_type": "code",
   "execution_count": 238,
   "id": "9d9acd09",
   "metadata": {},
   "outputs": [
    {
     "data": {
      "text/plain": [
       "marital_status    True\n",
       "education         True\n",
       "living_region     True\n",
       "dtype: bool"
      ]
     },
     "execution_count": 238,
     "metadata": {},
     "output_type": "execute_result"
    }
   ],
   "source": [
    "need_to_fix_categorical[need_to_fix_categorical]"
   ]
  },
  {
   "cell_type": "code",
   "execution_count": 239,
   "id": "0df549ae",
   "metadata": {},
   "outputs": [
    {
     "name": "stderr",
     "output_type": "stream",
     "text": [
      "100%|████████████████████████████████████████████████████████████████████████████████████| 2/2 [00:00<00:00, 30.39it/s]\n"
     ]
    }
   ],
   "source": [
    "for cat in tqdm(['marital_status', 'education']):\n",
    "    for df in datasets:\n",
    "        df[cat].fillna(train[cat].mode().values[0], inplace=True)"
   ]
  },
  {
   "cell_type": "code",
   "execution_count": 240,
   "id": "3a041077",
   "metadata": {},
   "outputs": [
    {
     "name": "stderr",
     "output_type": "stream",
     "text": [
      "100%|███████████████████████████████████████████████████████████████████████████████████| 3/3 [00:00<00:00, 334.25it/s]\n"
     ]
    }
   ],
   "source": [
    "for df in tqdm(datasets):\n",
    "        df['living_region'].fillna('НЕ УКАЗАН', inplace=True)"
   ]
  },
  {
   "cell_type": "code",
   "execution_count": 241,
   "id": "8137072a",
   "metadata": {},
   "outputs": [
    {
     "data": {
      "text/html": [
       "<div>\n",
       "<style scoped>\n",
       "    .dataframe tbody tr th:only-of-type {\n",
       "        vertical-align: middle;\n",
       "    }\n",
       "\n",
       "    .dataframe tbody tr th {\n",
       "        vertical-align: top;\n",
       "    }\n",
       "\n",
       "    .dataframe thead th {\n",
       "        text-align: right;\n",
       "    }\n",
       "</style>\n",
       "<table border=\"1\" class=\"dataframe\">\n",
       "  <thead>\n",
       "    <tr style=\"text-align: right;\">\n",
       "      <th></th>\n",
       "      <th>Тренировочный</th>\n",
       "      <th>Валидационный</th>\n",
       "      <th>Контрольный</th>\n",
       "    </tr>\n",
       "  </thead>\n",
       "  <tbody>\n",
       "    <tr>\n",
       "      <th>gender</th>\n",
       "      <td>0</td>\n",
       "      <td>0</td>\n",
       "      <td>0</td>\n",
       "    </tr>\n",
       "    <tr>\n",
       "      <th>age</th>\n",
       "      <td>0</td>\n",
       "      <td>0</td>\n",
       "      <td>0</td>\n",
       "    </tr>\n",
       "    <tr>\n",
       "      <th>marital_status</th>\n",
       "      <td>0</td>\n",
       "      <td>0</td>\n",
       "      <td>0</td>\n",
       "    </tr>\n",
       "    <tr>\n",
       "      <th>job_position</th>\n",
       "      <td>0</td>\n",
       "      <td>0</td>\n",
       "      <td>0</td>\n",
       "    </tr>\n",
       "    <tr>\n",
       "      <th>credit_sum</th>\n",
       "      <td>0</td>\n",
       "      <td>0</td>\n",
       "      <td>0</td>\n",
       "    </tr>\n",
       "    <tr>\n",
       "      <th>credit_month</th>\n",
       "      <td>0</td>\n",
       "      <td>0</td>\n",
       "      <td>0</td>\n",
       "    </tr>\n",
       "    <tr>\n",
       "      <th>tariff_id</th>\n",
       "      <td>0</td>\n",
       "      <td>0</td>\n",
       "      <td>0</td>\n",
       "    </tr>\n",
       "    <tr>\n",
       "      <th>score_shk</th>\n",
       "      <td>0</td>\n",
       "      <td>0</td>\n",
       "      <td>0</td>\n",
       "    </tr>\n",
       "    <tr>\n",
       "      <th>education</th>\n",
       "      <td>0</td>\n",
       "      <td>0</td>\n",
       "      <td>0</td>\n",
       "    </tr>\n",
       "    <tr>\n",
       "      <th>living_region</th>\n",
       "      <td>0</td>\n",
       "      <td>0</td>\n",
       "      <td>0</td>\n",
       "    </tr>\n",
       "    <tr>\n",
       "      <th>monthly_income</th>\n",
       "      <td>0</td>\n",
       "      <td>0</td>\n",
       "      <td>0</td>\n",
       "    </tr>\n",
       "    <tr>\n",
       "      <th>credit_count</th>\n",
       "      <td>0</td>\n",
       "      <td>0</td>\n",
       "      <td>0</td>\n",
       "    </tr>\n",
       "    <tr>\n",
       "      <th>overdue_credit_count</th>\n",
       "      <td>0</td>\n",
       "      <td>0</td>\n",
       "      <td>0</td>\n",
       "    </tr>\n",
       "    <tr>\n",
       "      <th>open_account_flg</th>\n",
       "      <td>0</td>\n",
       "      <td>0</td>\n",
       "      <td>0</td>\n",
       "    </tr>\n",
       "  </tbody>\n",
       "</table>\n",
       "</div>"
      ],
      "text/plain": [
       "                      Тренировочный  Валидационный  Контрольный\n",
       "gender                            0              0            0\n",
       "age                               0              0            0\n",
       "marital_status                    0              0            0\n",
       "job_position                      0              0            0\n",
       "credit_sum                        0              0            0\n",
       "credit_month                      0              0            0\n",
       "tariff_id                         0              0            0\n",
       "score_shk                         0              0            0\n",
       "education                         0              0            0\n",
       "living_region                     0              0            0\n",
       "monthly_income                    0              0            0\n",
       "credit_count                      0              0            0\n",
       "overdue_credit_count              0              0            0\n",
       "open_account_flg                  0              0            0"
      ]
     },
     "execution_count": 241,
     "metadata": {},
     "output_type": "execute_result"
    }
   ],
   "source": [
    "omission_info_after = pd.DataFrame(dict(zip(datasets_names, [df.isnull().sum() for df in datasets])))\n",
    "omission_info_after"
   ]
  },
  {
   "cell_type": "markdown",
   "id": "c526fd75",
   "metadata": {},
   "source": [
    "# Конструирование новых признаков (Feature Engineering)"
   ]
  },
  {
   "cell_type": "markdown",
   "id": "a35a496a",
   "metadata": {},
   "source": [
    "Начнем конструирование новых признаков, исходя из знаний предметной области."
   ]
  },
  {
   "cell_type": "code",
   "execution_count": 242,
   "id": "bdba77f0",
   "metadata": {},
   "outputs": [
    {
     "name": "stdout",
     "output_type": "stream",
     "text": [
      "Количественные переменные: Index(['age', 'credit_sum', 'credit_month', 'score_shk', 'monthly_income',\n",
      "       'credit_count', 'overdue_credit_count', 'open_account_flg'],\n",
      "      dtype='object')\n"
     ]
    }
   ],
   "source": [
    "print(f'Количественные переменные: {test.dtypes[test.dtypes != object].index}')"
   ]
  },
  {
   "cell_type": "code",
   "execution_count": 243,
   "id": "12202e70",
   "metadata": {},
   "outputs": [
    {
     "name": "stderr",
     "output_type": "stream",
     "text": [
      "100%|███████████████████████████████████████████████████████████████████████████████████| 3/3 [00:00<00:00, 501.35it/s]\n"
     ]
    }
   ],
   "source": [
    "# Рассчитаем ежемесячный платеж по кредиту для всех датасетов\n",
    "for df in tqdm(datasets):\n",
    "    df['month_payment'] = df['credit_sum'] / df['credit_month']\n",
    "# Заменим бесконечные значения, которые могли образоваться при делении, на -1\n",
    "    df['month_payment'].replace([np.inf, -np.inf], -1, inplace=True)"
   ]
  },
  {
   "cell_type": "code",
   "execution_count": 244,
   "id": "fe342d53",
   "metadata": {},
   "outputs": [
    {
     "name": "stderr",
     "output_type": "stream",
     "text": [
      "100%|███████████████████████████████████████████████████████████████████████████████████| 3/3 [00:00<00:00, 601.59it/s]\n"
     ]
    }
   ],
   "source": [
    "# Также важным параметром является какую долю зарплаты человек будет отдавать на погашение кредита\n",
    "for df in tqdm(datasets):\n",
    "    df['payment_income_part'] = df['month_payment'] / df['monthly_income']\n",
    "# Заменим бесконечные значения, которые могли образоваться при делении, на -1    \n",
    "    df['payment_income_part'].replace([np.inf, -np.inf], -1, inplace=True)"
   ]
  },
  {
   "cell_type": "markdown",
   "id": "1452c868",
   "metadata": {},
   "source": [
    "Теперь создадим переменные - средние значения количественной переменной, взятые по уровню категориальной переменной. А также сравним показатель клиента с этим средним значением. \n",
    "\n",
    "Например, колонка `education_median_score` - медианное значение внутренней скоринговой оценки для людей с таким образованием.\n",
    "\n",
    "Например, колонка `score_is_gt_median_education` отображает превосходит ли внутренняя скоринговая оценка клиента медианное значение для людей с таким же образованием."
   ]
  },
  {
   "cell_type": "code",
   "execution_count": 245,
   "id": "bea8f063",
   "metadata": {},
   "outputs": [
    {
     "name": "stderr",
     "output_type": "stream",
     "text": [
      "100%|████████████████████████████████████████████████████████████████████████████████████| 5/5 [00:25<00:00,  5.01s/it]\n"
     ]
    }
   ],
   "source": [
    "categorical_cols = ['living_region', 'gender',\n",
    "                     'marital_status', 'job_position', 'education']\n",
    "quantitative_cols = ['age', 'credit_sum', 'credit_month',\n",
    "                     'score_shk', 'monthly_income',\n",
    "                     'credit_count', 'overdue_credit_count']\n",
    "\n",
    "category_col_names = dict(zip(categorical_cols, ['region', 'gender',\n",
    "                                                 'marital', 'job', 'education']))\n",
    "quantitative_col_names = dict(zip(quantitative_cols, ['age','cr_sum', 'cr_month',\n",
    "                                                      'score', 'income', 'cr_count',\n",
    "                                                      'overdue_count']))\n",
    "\n",
    "for category in tqdm(categorical_cols):\n",
    "    for indicator in quantitative_cols:\n",
    "        grouped = train.groupby(category).agg(np.median)[indicator]\n",
    "        median_col_name = category_col_names[category] + '_median_' +  quantitative_col_names[indicator]\n",
    "        is_gt_median_col_name = quantitative_col_names[indicator] + '_is_gt_median_' + category_col_names[category]             \n",
    "        for df in datasets:\n",
    "            df[median_col_name] = df[category].map(lambda x: grouped[x])                      \n",
    "            df[is_gt_median_col_name] = np.where(df[indicator] >= df[median_col_name], 'YES', 'NO')"
   ]
  },
  {
   "cell_type": "markdown",
   "id": "16584720",
   "metadata": {},
   "source": [
    "Теперь создадим переменные - квадраты и обратные значения количественных переменных."
   ]
  },
  {
   "cell_type": "code",
   "execution_count": 246,
   "id": "e0afa084",
   "metadata": {},
   "outputs": [
    {
     "name": "stderr",
     "output_type": "stream",
     "text": [
      "100%|███████████████████████████████████████████████████████████████████████████████████| 7/7 [00:00<00:00, 127.61it/s]\n"
     ]
    }
   ],
   "source": [
    "for indicator in tqdm(quantitative_cols):\n",
    "    for df in datasets:\n",
    "        df[indicator + '_sq'] = df[indicator] ** 2\n",
    "        df[indicator + '_inv'] = (1 / df[indicator]).replace([np.inf, -np.inf], -1)"
   ]
  },
  {
   "cell_type": "code",
   "execution_count": 249,
   "id": "5c62a9ec",
   "metadata": {},
   "outputs": [
    {
     "data": {
      "text/plain": [
       "Тренировочный    0\n",
       "Валидационный    0\n",
       "Контрольный      0\n",
       "dtype: int64"
      ]
     },
     "execution_count": 249,
     "metadata": {},
     "output_type": "execute_result"
    }
   ],
   "source": [
    "pd.DataFrame(dict(zip(datasets_names, [df.isnull().sum() for df in datasets]))).sum()\n",
    "# Таким образом, у нас отсутствуют пропущенные значения во всех датасетах."
   ]
  },
  {
   "cell_type": "code",
   "execution_count": 251,
   "id": "b821780d",
   "metadata": {},
   "outputs": [
    {
     "data": {
      "text/plain": [
       "Тренировочный    0\n",
       "Валидационный    0\n",
       "Контрольный      0\n",
       "dtype: int64"
      ]
     },
     "execution_count": 251,
     "metadata": {},
     "output_type": "execute_result"
    }
   ],
   "source": [
    "pd.DataFrame(dict(zip(datasets_names, [df.isin([np.inf, -np.inf]).sum() for df in datasets]))).sum()\n",
    "# Таким образом, у нас отсутствуют np.inf, -np.inf значения во всех датасетах."
   ]
  },
  {
   "cell_type": "code",
   "execution_count": null,
   "id": "ff74d547",
   "metadata": {},
   "outputs": [],
   "source": []
  },
  {
   "cell_type": "code",
   "execution_count": null,
   "id": "63caf3ae",
   "metadata": {},
   "outputs": [],
   "source": []
  },
  {
   "cell_type": "code",
   "execution_count": null,
   "id": "a4159a36",
   "metadata": {},
   "outputs": [],
   "source": []
  },
  {
   "cell_type": "code",
   "execution_count": null,
   "id": "839e7fe5",
   "metadata": {},
   "outputs": [],
   "source": []
  },
  {
   "cell_type": "code",
   "execution_count": null,
   "id": "12d4f39e",
   "metadata": {},
   "outputs": [],
   "source": []
  },
  {
   "cell_type": "code",
   "execution_count": null,
   "id": "49eb33a8",
   "metadata": {},
   "outputs": [],
   "source": []
  },
  {
   "cell_type": "code",
   "execution_count": null,
   "id": "545cb0e0",
   "metadata": {},
   "outputs": [],
   "source": []
  },
  {
   "cell_type": "code",
   "execution_count": null,
   "id": "3361856a",
   "metadata": {},
   "outputs": [],
   "source": []
  },
  {
   "cell_type": "code",
   "execution_count": null,
   "id": "c4663b2f",
   "metadata": {},
   "outputs": [],
   "source": []
  },
  {
   "cell_type": "code",
   "execution_count": null,
   "id": "c1577d5e",
   "metadata": {},
   "outputs": [],
   "source": []
  }
 ],
 "metadata": {
  "kernelspec": {
   "display_name": "Python 3",
   "language": "python",
   "name": "python3"
  },
  "language_info": {
   "codemirror_mode": {
    "name": "ipython",
    "version": 3
   },
   "file_extension": ".py",
   "mimetype": "text/x-python",
   "name": "python",
   "nbconvert_exporter": "python",
   "pygments_lexer": "ipython3",
   "version": "3.9.5"
  }
 },
 "nbformat": 4,
 "nbformat_minor": 5
}
