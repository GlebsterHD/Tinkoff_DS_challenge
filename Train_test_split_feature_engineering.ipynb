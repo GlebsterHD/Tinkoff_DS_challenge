{
 "cells": [
  {
   "cell_type": "code",
   "execution_count": 22,
   "id": "aad58a14",
   "metadata": {},
   "outputs": [],
   "source": [
    "import numpy as np\n",
    "import pandas as pd\n",
    "import matplotlib.pyplot as plt\n",
    "%matplotlib inline\n",
    "\n",
    "from sklearn.model_selection import train_test_split\n",
    "\n",
    "import random\n",
    "\n",
    "from tqdm import tqdm"
   ]
  },
  {
   "cell_type": "code",
   "execution_count": 23,
   "id": "88112884",
   "metadata": {},
   "outputs": [],
   "source": [
    "RND_STATE = 777"
   ]
  },
  {
   "cell_type": "markdown",
   "id": "aceb0527",
   "metadata": {},
   "source": [
    "Поскольку в дальнейшем планируется сравнение различных типов моделей, нам необходимо разделить наши данные на три выборки:\n",
    "1. Тренировочная\n",
    "2. Валидационная\n",
    "3. Контрольная (тестовая)\n",
    "\n",
    "Данное разделение необходимо для того, чтобы избежать переобучения на контрольную выборку."
   ]
  },
  {
   "cell_type": "code",
   "execution_count": 24,
   "id": "28ca1354",
   "metadata": {},
   "outputs": [],
   "source": [
    "data = pd.read_csv('Data\\credit_train_processed.csv', encoding='cp1251', index_col=0)"
   ]
  },
  {
   "cell_type": "code",
   "execution_count": 25,
   "id": "e4df3859",
   "metadata": {},
   "outputs": [
    {
     "data": {
      "text/html": [
       "<div>\n",
       "<style scoped>\n",
       "    .dataframe tbody tr th:only-of-type {\n",
       "        vertical-align: middle;\n",
       "    }\n",
       "\n",
       "    .dataframe tbody tr th {\n",
       "        vertical-align: top;\n",
       "    }\n",
       "\n",
       "    .dataframe thead th {\n",
       "        text-align: right;\n",
       "    }\n",
       "</style>\n",
       "<table border=\"1\" class=\"dataframe\">\n",
       "  <thead>\n",
       "    <tr style=\"text-align: right;\">\n",
       "      <th></th>\n",
       "      <th>gender</th>\n",
       "      <th>age</th>\n",
       "      <th>marital_status</th>\n",
       "      <th>job_position</th>\n",
       "      <th>credit_sum</th>\n",
       "      <th>credit_month</th>\n",
       "      <th>tariff_id</th>\n",
       "      <th>score_shk</th>\n",
       "      <th>education</th>\n",
       "      <th>living_region</th>\n",
       "      <th>monthly_income</th>\n",
       "      <th>credit_count</th>\n",
       "      <th>overdue_credit_count</th>\n",
       "      <th>open_account_flg</th>\n",
       "    </tr>\n",
       "  </thead>\n",
       "  <tbody>\n",
       "    <tr>\n",
       "      <th>0</th>\n",
       "      <td>M</td>\n",
       "      <td>NaN</td>\n",
       "      <td>NaN</td>\n",
       "      <td>UMN</td>\n",
       "      <td>59998.00</td>\n",
       "      <td>10</td>\n",
       "      <td>1_6</td>\n",
       "      <td>NaN</td>\n",
       "      <td>GRD</td>\n",
       "      <td>КРАСНОДАРСКИЙ</td>\n",
       "      <td>30000.0</td>\n",
       "      <td>1.0</td>\n",
       "      <td>1.0</td>\n",
       "      <td>0</td>\n",
       "    </tr>\n",
       "    <tr>\n",
       "      <th>1</th>\n",
       "      <td>F</td>\n",
       "      <td>NaN</td>\n",
       "      <td>MAR</td>\n",
       "      <td>UMN</td>\n",
       "      <td>10889.00</td>\n",
       "      <td>6</td>\n",
       "      <td>1_1</td>\n",
       "      <td>NaN</td>\n",
       "      <td>NaN</td>\n",
       "      <td>МОСКВА</td>\n",
       "      <td>NaN</td>\n",
       "      <td>2.0</td>\n",
       "      <td>0.0</td>\n",
       "      <td>0</td>\n",
       "    </tr>\n",
       "    <tr>\n",
       "      <th>2</th>\n",
       "      <td>M</td>\n",
       "      <td>32.0</td>\n",
       "      <td>MAR</td>\n",
       "      <td>SPC</td>\n",
       "      <td>10728.00</td>\n",
       "      <td>12</td>\n",
       "      <td>1_1</td>\n",
       "      <td>NaN</td>\n",
       "      <td>NaN</td>\n",
       "      <td>САРАТОВСКАЯ</td>\n",
       "      <td>NaN</td>\n",
       "      <td>5.0</td>\n",
       "      <td>0.0</td>\n",
       "      <td>0</td>\n",
       "    </tr>\n",
       "    <tr>\n",
       "      <th>3</th>\n",
       "      <td>F</td>\n",
       "      <td>27.0</td>\n",
       "      <td>NaN</td>\n",
       "      <td>SPC</td>\n",
       "      <td>12009.09</td>\n",
       "      <td>12</td>\n",
       "      <td>1_1</td>\n",
       "      <td>NaN</td>\n",
       "      <td>NaN</td>\n",
       "      <td>ВОЛГОГРАДСКАЯ</td>\n",
       "      <td>NaN</td>\n",
       "      <td>2.0</td>\n",
       "      <td>0.0</td>\n",
       "      <td>0</td>\n",
       "    </tr>\n",
       "    <tr>\n",
       "      <th>4</th>\n",
       "      <td>M</td>\n",
       "      <td>45.0</td>\n",
       "      <td>NaN</td>\n",
       "      <td>SPC</td>\n",
       "      <td>NaN</td>\n",
       "      <td>10</td>\n",
       "      <td>1_1</td>\n",
       "      <td>0.421385</td>\n",
       "      <td>SCH</td>\n",
       "      <td>ЧЕЛЯБИНСКАЯ</td>\n",
       "      <td>NaN</td>\n",
       "      <td>1.0</td>\n",
       "      <td>0.0</td>\n",
       "      <td>0</td>\n",
       "    </tr>\n",
       "  </tbody>\n",
       "</table>\n",
       "</div>"
      ],
      "text/plain": [
       "  gender   age marital_status job_position  credit_sum  credit_month  \\\n",
       "0      M   NaN            NaN          UMN    59998.00            10   \n",
       "1      F   NaN            MAR          UMN    10889.00             6   \n",
       "2      M  32.0            MAR          SPC    10728.00            12   \n",
       "3      F  27.0            NaN          SPC    12009.09            12   \n",
       "4      M  45.0            NaN          SPC         NaN            10   \n",
       "\n",
       "  tariff_id  score_shk education  living_region  monthly_income  credit_count  \\\n",
       "0       1_6        NaN       GRD  КРАСНОДАРСКИЙ         30000.0           1.0   \n",
       "1       1_1        NaN       NaN         МОСКВА             NaN           2.0   \n",
       "2       1_1        NaN       NaN    САРАТОВСКАЯ             NaN           5.0   \n",
       "3       1_1        NaN       NaN  ВОЛГОГРАДСКАЯ             NaN           2.0   \n",
       "4       1_1   0.421385       SCH    ЧЕЛЯБИНСКАЯ             NaN           1.0   \n",
       "\n",
       "   overdue_credit_count  open_account_flg  \n",
       "0                   1.0                 0  \n",
       "1                   0.0                 0  \n",
       "2                   0.0                 0  \n",
       "3                   0.0                 0  \n",
       "4                   0.0                 0  "
      ]
     },
     "execution_count": 25,
     "metadata": {},
     "output_type": "execute_result"
    }
   ],
   "source": [
    "data.head()"
   ]
  },
  {
   "cell_type": "markdown",
   "id": "39552105",
   "metadata": {},
   "source": [
    "Разделим наши данные в соотношении 7:2:1."
   ]
  },
  {
   "cell_type": "code",
   "execution_count": 26,
   "id": "fab60e3b",
   "metadata": {},
   "outputs": [],
   "source": [
    "X = data.drop('open_account_flg', axis=1)\n",
    "y = data['open_account_flg']\n",
    "\n",
    "X_train, X_1, y_train, y_1 = train_test_split(\n",
    "    X, y, test_size=0.3, stratify=y, shuffle=True, random_state=RND_STATE)\n",
    "\n",
    "X_valid, X_test, y_valid, y_test = train_test_split(\n",
    "    X_1, y_1, test_size=0.33, stratify=y_1, shuffle=True, random_state=RND_STATE)"
   ]
  },
  {
   "cell_type": "code",
   "execution_count": 27,
   "id": "b9cf17cb",
   "metadata": {},
   "outputs": [],
   "source": [
    "train = X_train.join(y_train, how='left')\n",
    "valid = X_valid.join(y_valid, how='left')\n",
    "test = X_test.join(y_test, how='left')"
   ]
  },
  {
   "cell_type": "code",
   "execution_count": 28,
   "id": "2bfaa829",
   "metadata": {},
   "outputs": [
    {
     "name": "stderr",
     "output_type": "stream",
     "text": [
      "100%|████████████████████████████████████████████████████████████████████████████████████████████| 3/3 [00:00<?, ?it/s]"
     ]
    },
    {
     "name": "stdout",
     "output_type": "stream",
     "text": [
      "0.70\n",
      "0.20\n",
      "0.10\n"
     ]
    },
    {
     "name": "stderr",
     "output_type": "stream",
     "text": [
      "\n"
     ]
    }
   ],
   "source": [
    "datasets = [train, valid, test]\n",
    "datasets_names = [\"Тренировочный\", \"Валидационный\", \"Контрольный\"]\n",
    "for df in tqdm(datasets):\n",
    "    print(f'{df.shape[0] / data.shape[0]:.2f}')"
   ]
  },
  {
   "cell_type": "markdown",
   "id": "e7c8b822",
   "metadata": {},
   "source": [
    "# Импутация пропусков\n",
    "\n",
    "Давайте посмотрим количество пропусков по каждой переменной в наших наборах данных."
   ]
  },
  {
   "cell_type": "code",
   "execution_count": 29,
   "id": "93f638da",
   "metadata": {},
   "outputs": [],
   "source": [
    "omission_info = pd.DataFrame(dict(zip(datasets_names, [df.isnull().sum() for df in datasets])))"
   ]
  },
  {
   "cell_type": "code",
   "execution_count": 30,
   "id": "95d2408e",
   "metadata": {},
   "outputs": [
    {
     "data": {
      "text/html": [
       "<div>\n",
       "<style scoped>\n",
       "    .dataframe tbody tr th:only-of-type {\n",
       "        vertical-align: middle;\n",
       "    }\n",
       "\n",
       "    .dataframe tbody tr th {\n",
       "        vertical-align: top;\n",
       "    }\n",
       "\n",
       "    .dataframe thead th {\n",
       "        text-align: right;\n",
       "    }\n",
       "</style>\n",
       "<table border=\"1\" class=\"dataframe\">\n",
       "  <thead>\n",
       "    <tr style=\"text-align: right;\">\n",
       "      <th></th>\n",
       "      <th>Тренировочный</th>\n",
       "      <th>Валидационный</th>\n",
       "      <th>Контрольный</th>\n",
       "    </tr>\n",
       "  </thead>\n",
       "  <tbody>\n",
       "    <tr>\n",
       "      <th>gender</th>\n",
       "      <td>0</td>\n",
       "      <td>0</td>\n",
       "      <td>0</td>\n",
       "    </tr>\n",
       "    <tr>\n",
       "      <th>age</th>\n",
       "      <td>2</td>\n",
       "      <td>0</td>\n",
       "      <td>1</td>\n",
       "    </tr>\n",
       "    <tr>\n",
       "      <th>marital_status</th>\n",
       "      <td>2</td>\n",
       "      <td>0</td>\n",
       "      <td>1</td>\n",
       "    </tr>\n",
       "    <tr>\n",
       "      <th>job_position</th>\n",
       "      <td>0</td>\n",
       "      <td>0</td>\n",
       "      <td>0</td>\n",
       "    </tr>\n",
       "    <tr>\n",
       "      <th>credit_sum</th>\n",
       "      <td>2</td>\n",
       "      <td>0</td>\n",
       "      <td>0</td>\n",
       "    </tr>\n",
       "    <tr>\n",
       "      <th>credit_month</th>\n",
       "      <td>0</td>\n",
       "      <td>0</td>\n",
       "      <td>0</td>\n",
       "    </tr>\n",
       "    <tr>\n",
       "      <th>tariff_id</th>\n",
       "      <td>0</td>\n",
       "      <td>0</td>\n",
       "      <td>0</td>\n",
       "    </tr>\n",
       "    <tr>\n",
       "      <th>score_shk</th>\n",
       "      <td>5</td>\n",
       "      <td>0</td>\n",
       "      <td>2</td>\n",
       "    </tr>\n",
       "    <tr>\n",
       "      <th>education</th>\n",
       "      <td>5</td>\n",
       "      <td>0</td>\n",
       "      <td>0</td>\n",
       "    </tr>\n",
       "    <tr>\n",
       "      <th>living_region</th>\n",
       "      <td>136</td>\n",
       "      <td>36</td>\n",
       "      <td>20</td>\n",
       "    </tr>\n",
       "    <tr>\n",
       "      <th>monthly_income</th>\n",
       "      <td>5</td>\n",
       "      <td>0</td>\n",
       "      <td>0</td>\n",
       "    </tr>\n",
       "    <tr>\n",
       "      <th>credit_count</th>\n",
       "      <td>6432</td>\n",
       "      <td>1870</td>\n",
       "      <td>928</td>\n",
       "    </tr>\n",
       "    <tr>\n",
       "      <th>overdue_credit_count</th>\n",
       "      <td>6432</td>\n",
       "      <td>1870</td>\n",
       "      <td>928</td>\n",
       "    </tr>\n",
       "    <tr>\n",
       "      <th>open_account_flg</th>\n",
       "      <td>0</td>\n",
       "      <td>0</td>\n",
       "      <td>0</td>\n",
       "    </tr>\n",
       "  </tbody>\n",
       "</table>\n",
       "</div>"
      ],
      "text/plain": [
       "                      Тренировочный  Валидационный  Контрольный\n",
       "gender                            0              0            0\n",
       "age                               2              0            1\n",
       "marital_status                    2              0            1\n",
       "job_position                      0              0            0\n",
       "credit_sum                        2              0            0\n",
       "credit_month                      0              0            0\n",
       "tariff_id                         0              0            0\n",
       "score_shk                         5              0            2\n",
       "education                         5              0            0\n",
       "living_region                   136             36           20\n",
       "monthly_income                    5              0            0\n",
       "credit_count                   6432           1870          928\n",
       "overdue_credit_count           6432           1870          928\n",
       "open_account_flg                  0              0            0"
      ]
     },
     "execution_count": 30,
     "metadata": {},
     "output_type": "execute_result"
    }
   ],
   "source": [
    "omission_info"
   ]
  },
  {
   "cell_type": "markdown",
   "id": "faae8e9e",
   "metadata": {},
   "source": [
    "Пропуски в переменных будем проводить различными способами в зависимости от типа рассматриваемой переменной (категориальной или количественной). \n",
    "\n",
    "В случае *категориальной* переменной заполнение будем проводить <ins>модой</ins> **тренировочного** набора.\n",
    "\n",
    "В случае *количественной* переменной заполнение проводится в зависимости от типа ее распределения (симметричный, ассиметричный):\n",
    "* симметричный - можно воспользоваться <ins>средним</ins> значением **тренировочного** набора. Например, для параметра `age`.\n",
    "* ассиметричный - лучше пользоваться <ins>медианой</ins> **тренировочного** набора, чтобы избежать влияния \"черных лебедей\".\n",
    "\n",
    "Также можно заполнить значением выходящим за диапазон непропущенных значений, например, большим отрицательным числом."
   ]
  },
  {
   "cell_type": "markdown",
   "id": "cccfed3b",
   "metadata": {},
   "source": [
    "## Количественные переменные"
   ]
  },
  {
   "cell_type": "code",
   "execution_count": 31,
   "id": "dc26c9af",
   "metadata": {},
   "outputs": [
    {
     "name": "stdout",
     "output_type": "stream",
     "text": [
      "Количественные переменные: ['age' 'credit_sum' 'credit_month' 'score_shk' 'monthly_income'\n",
      " 'credit_count' 'overdue_credit_count' 'open_account_flg']\n"
     ]
    }
   ],
   "source": [
    "print(f'Количественные переменные: {test.dtypes[test.dtypes != object].index.values}')"
   ]
  },
  {
   "cell_type": "code",
   "execution_count": 32,
   "id": "66def21b",
   "metadata": {},
   "outputs": [
    {
     "name": "stderr",
     "output_type": "stream",
     "text": [
      "100%|███████████████████████████████████████████████████████████████████████████████████| 4/4 [00:00<00:00, 117.96it/s]\n"
     ]
    }
   ],
   "source": [
    "# Заполняем пропуски в переменных 'age', 'credit_sum', 'score_shk', 'monthly_income'\n",
    "# медианой тренировочного набора.\n",
    "for col in tqdm(['age', 'credit_sum', 'score_shk', 'monthly_income']):\n",
    "    for df in datasets:\n",
    "        df[col].fillna(train[col].median(), inplace=True)"
   ]
  },
  {
   "cell_type": "code",
   "execution_count": 33,
   "id": "4a5d63ff",
   "metadata": {},
   "outputs": [
    {
     "name": "stderr",
     "output_type": "stream",
     "text": [
      "100%|███████████████████████████████████████████████████████████████████████████████████| 2/2 [00:00<00:00, 668.47it/s]\n"
     ]
    }
   ],
   "source": [
    "# Для переменных 'credit_count' и 'overdue_credit_count' заполним пропуски значением -1\n",
    "for col in tqdm(['credit_count', 'overdue_credit_count']):\n",
    "    for df in datasets:\n",
    "        df[col].fillna(-1, inplace=True)"
   ]
  },
  {
   "cell_type": "markdown",
   "id": "be05a957",
   "metadata": {},
   "source": [
    "## Категориальные переменные"
   ]
  },
  {
   "cell_type": "code",
   "execution_count": 34,
   "id": "22d841a9",
   "metadata": {},
   "outputs": [
    {
     "name": "stdout",
     "output_type": "stream",
     "text": [
      "Категориальные переменные: ['gender' 'marital_status' 'job_position' 'tariff_id' 'education'\n",
      " 'living_region']\n"
     ]
    }
   ],
   "source": [
    "print(f'Категориальные переменные: {test.dtypes[test.dtypes == object].index.values}')"
   ]
  },
  {
   "cell_type": "code",
   "execution_count": 35,
   "id": "6ca4b2fe",
   "metadata": {},
   "outputs": [],
   "source": [
    "need_to_fix_categorical = omission_info.loc[test.dtypes[test.dtypes == object].index]\\\n",
    "                                        .sum(axis=1) > 0"
   ]
  },
  {
   "cell_type": "code",
   "execution_count": 36,
   "id": "9d9acd09",
   "metadata": {},
   "outputs": [
    {
     "data": {
      "text/plain": [
       "marital_status    True\n",
       "education         True\n",
       "living_region     True\n",
       "dtype: bool"
      ]
     },
     "execution_count": 36,
     "metadata": {},
     "output_type": "execute_result"
    }
   ],
   "source": [
    "need_to_fix_categorical[need_to_fix_categorical]"
   ]
  },
  {
   "cell_type": "code",
   "execution_count": 37,
   "id": "0df549ae",
   "metadata": {},
   "outputs": [
    {
     "name": "stderr",
     "output_type": "stream",
     "text": [
      "100%|████████████████████████████████████████████████████████████████████████████████████| 2/2 [00:00<00:00, 32.34it/s]\n"
     ]
    }
   ],
   "source": [
    "for cat in tqdm(['marital_status', 'education']):\n",
    "    for df in datasets:\n",
    "        df[cat].fillna(train[cat].mode().values[0], inplace=True)"
   ]
  },
  {
   "cell_type": "code",
   "execution_count": 38,
   "id": "3a041077",
   "metadata": {},
   "outputs": [
    {
     "name": "stderr",
     "output_type": "stream",
     "text": [
      "100%|███████████████████████████████████████████████████████████████████████████████████| 3/3 [00:00<00:00, 334.25it/s]\n"
     ]
    }
   ],
   "source": [
    "for df in tqdm(datasets):\n",
    "        df['living_region'].fillna('НЕ УКАЗАН', inplace=True)"
   ]
  },
  {
   "cell_type": "code",
   "execution_count": 39,
   "id": "8137072a",
   "metadata": {},
   "outputs": [
    {
     "data": {
      "text/html": [
       "<div>\n",
       "<style scoped>\n",
       "    .dataframe tbody tr th:only-of-type {\n",
       "        vertical-align: middle;\n",
       "    }\n",
       "\n",
       "    .dataframe tbody tr th {\n",
       "        vertical-align: top;\n",
       "    }\n",
       "\n",
       "    .dataframe thead th {\n",
       "        text-align: right;\n",
       "    }\n",
       "</style>\n",
       "<table border=\"1\" class=\"dataframe\">\n",
       "  <thead>\n",
       "    <tr style=\"text-align: right;\">\n",
       "      <th></th>\n",
       "      <th>Тренировочный</th>\n",
       "      <th>Валидационный</th>\n",
       "      <th>Контрольный</th>\n",
       "    </tr>\n",
       "  </thead>\n",
       "  <tbody>\n",
       "    <tr>\n",
       "      <th>gender</th>\n",
       "      <td>0</td>\n",
       "      <td>0</td>\n",
       "      <td>0</td>\n",
       "    </tr>\n",
       "    <tr>\n",
       "      <th>age</th>\n",
       "      <td>0</td>\n",
       "      <td>0</td>\n",
       "      <td>0</td>\n",
       "    </tr>\n",
       "    <tr>\n",
       "      <th>marital_status</th>\n",
       "      <td>0</td>\n",
       "      <td>0</td>\n",
       "      <td>0</td>\n",
       "    </tr>\n",
       "    <tr>\n",
       "      <th>job_position</th>\n",
       "      <td>0</td>\n",
       "      <td>0</td>\n",
       "      <td>0</td>\n",
       "    </tr>\n",
       "    <tr>\n",
       "      <th>credit_sum</th>\n",
       "      <td>0</td>\n",
       "      <td>0</td>\n",
       "      <td>0</td>\n",
       "    </tr>\n",
       "    <tr>\n",
       "      <th>credit_month</th>\n",
       "      <td>0</td>\n",
       "      <td>0</td>\n",
       "      <td>0</td>\n",
       "    </tr>\n",
       "    <tr>\n",
       "      <th>tariff_id</th>\n",
       "      <td>0</td>\n",
       "      <td>0</td>\n",
       "      <td>0</td>\n",
       "    </tr>\n",
       "    <tr>\n",
       "      <th>score_shk</th>\n",
       "      <td>0</td>\n",
       "      <td>0</td>\n",
       "      <td>0</td>\n",
       "    </tr>\n",
       "    <tr>\n",
       "      <th>education</th>\n",
       "      <td>0</td>\n",
       "      <td>0</td>\n",
       "      <td>0</td>\n",
       "    </tr>\n",
       "    <tr>\n",
       "      <th>living_region</th>\n",
       "      <td>0</td>\n",
       "      <td>0</td>\n",
       "      <td>0</td>\n",
       "    </tr>\n",
       "    <tr>\n",
       "      <th>monthly_income</th>\n",
       "      <td>0</td>\n",
       "      <td>0</td>\n",
       "      <td>0</td>\n",
       "    </tr>\n",
       "    <tr>\n",
       "      <th>credit_count</th>\n",
       "      <td>0</td>\n",
       "      <td>0</td>\n",
       "      <td>0</td>\n",
       "    </tr>\n",
       "    <tr>\n",
       "      <th>overdue_credit_count</th>\n",
       "      <td>0</td>\n",
       "      <td>0</td>\n",
       "      <td>0</td>\n",
       "    </tr>\n",
       "    <tr>\n",
       "      <th>open_account_flg</th>\n",
       "      <td>0</td>\n",
       "      <td>0</td>\n",
       "      <td>0</td>\n",
       "    </tr>\n",
       "  </tbody>\n",
       "</table>\n",
       "</div>"
      ],
      "text/plain": [
       "                      Тренировочный  Валидационный  Контрольный\n",
       "gender                            0              0            0\n",
       "age                               0              0            0\n",
       "marital_status                    0              0            0\n",
       "job_position                      0              0            0\n",
       "credit_sum                        0              0            0\n",
       "credit_month                      0              0            0\n",
       "tariff_id                         0              0            0\n",
       "score_shk                         0              0            0\n",
       "education                         0              0            0\n",
       "living_region                     0              0            0\n",
       "monthly_income                    0              0            0\n",
       "credit_count                      0              0            0\n",
       "overdue_credit_count              0              0            0\n",
       "open_account_flg                  0              0            0"
      ]
     },
     "execution_count": 39,
     "metadata": {},
     "output_type": "execute_result"
    }
   ],
   "source": [
    "omission_info_after = pd.DataFrame(dict(zip(datasets_names, [df.isnull().sum() for df in datasets])))\n",
    "omission_info_after"
   ]
  },
  {
   "cell_type": "markdown",
   "id": "456b50bb",
   "metadata": {},
   "source": [
    "Далее сохраняем результаты нашей работы в файлы CSV, конструирование новых признаков будем проводить непосредственно перед построением соответственной модели."
   ]
  },
  {
   "cell_type": "markdown",
   "id": "c526fd75",
   "metadata": {},
   "source": [
    "# Конструирование новых признаков (Feature Engineering)"
   ]
  },
  {
   "cell_type": "markdown",
   "id": "a35a496a",
   "metadata": {},
   "source": [
    "Начнем конструирование новых признаков, исходя из знаний предметной области."
   ]
  },
  {
   "cell_type": "code",
   "execution_count": 40,
   "id": "bdba77f0",
   "metadata": {},
   "outputs": [
    {
     "name": "stdout",
     "output_type": "stream",
     "text": [
      "Количественные переменные: Index(['age', 'credit_sum', 'credit_month', 'score_shk', 'monthly_income',\n",
      "       'credit_count', 'overdue_credit_count', 'open_account_flg'],\n",
      "      dtype='object')\n"
     ]
    }
   ],
   "source": [
    "print(f'Количественные переменные: {test.dtypes[test.dtypes != object].index}')"
   ]
  },
  {
   "cell_type": "code",
   "execution_count": 41,
   "id": "12202e70",
   "metadata": {},
   "outputs": [
    {
     "name": "stderr",
     "output_type": "stream",
     "text": [
      "100%|███████████████████████████████████████████████████████████████████████████████████| 3/3 [00:00<00:00, 334.19it/s]\n"
     ]
    }
   ],
   "source": [
    "# Рассчитаем ежемесячный платеж по кредиту для всех датасетов\n",
    "for df in tqdm(datasets):\n",
    "    df['month_payment'] = df['credit_sum'] / df['credit_month']\n",
    "# Заменим бесконечные значения, которые могли образоваться при делении, на -1\n",
    "    df['month_payment'].replace([np.inf, -np.inf], -1, inplace=True)"
   ]
  },
  {
   "cell_type": "code",
   "execution_count": 42,
   "id": "fe342d53",
   "metadata": {},
   "outputs": [
    {
     "name": "stderr",
     "output_type": "stream",
     "text": [
      "100%|███████████████████████████████████████████████████████████████████████████████████| 3/3 [00:00<00:00, 273.46it/s]\n"
     ]
    }
   ],
   "source": [
    "# Также важным параметром является какую долю зарплаты человек будет отдавать на погашение кредита\n",
    "for df in tqdm(datasets):\n",
    "    df['payment_income_part'] = df['month_payment'] / df['monthly_income']\n",
    "# Заменим бесконечные значения, которые могли образоваться при делении, на -1    \n",
    "    df['payment_income_part'].replace([np.inf, -np.inf], -1, inplace=True)"
   ]
  },
  {
   "cell_type": "code",
   "execution_count": 43,
   "id": "6b417e02",
   "metadata": {},
   "outputs": [],
   "source": [
    "datasets_en_names = [\"Train_wo_na.csv\", \"Valid_wo_na.csv\", \"Control_wo_na.csv\"]\n",
    "\n",
    "for i, df in enumerate(datasets):\n",
    "    df.to_csv(fr'Data\\{datasets_en_names[i]}', encoding='cp1251')"
   ]
  },
  {
   "cell_type": "code",
   "execution_count": null,
   "id": "c1577d5e",
   "metadata": {},
   "outputs": [],
   "source": []
  }
 ],
 "metadata": {
  "kernelspec": {
   "display_name": "Python 3",
   "language": "python",
   "name": "python3"
  },
  "language_info": {
   "codemirror_mode": {
    "name": "ipython",
    "version": 3
   },
   "file_extension": ".py",
   "mimetype": "text/x-python",
   "name": "python",
   "nbconvert_exporter": "python",
   "pygments_lexer": "ipython3",
   "version": "3.9.5"
  }
 },
 "nbformat": 4,
 "nbformat_minor": 5
}
