{
 "cells": [
  {
   "cell_type": "code",
   "execution_count": 141,
   "id": "46e2a3e7",
   "metadata": {},
   "outputs": [],
   "source": [
    "import numpy as np\n",
    "import pandas as pd\n",
    "import matplotlib.pyplot as plt\n",
    "%matplotlib inline\n",
    "\n",
    "import random"
   ]
  },
  {
   "cell_type": "code",
   "execution_count": 142,
   "id": "b375d3bb",
   "metadata": {},
   "outputs": [],
   "source": [
    "RND_STATE = 777"
   ]
  },
  {
   "cell_type": "markdown",
   "id": "5cda2078",
   "metadata": {},
   "source": [
    "Поскольку в дальнейшем планируется сравнение различных типов моделей, нам необходимо разделить наши данные на три выборки:\n",
    "1. Тренировочная\n",
    "2. Валидационная\n",
    "3. Контрольная (тестовая)\n",
    "\n",
    "Данное разделение необходимо для того, чтобы избежать переобучения на контрольную выборку."
   ]
  },
  {
   "cell_type": "code",
   "execution_count": 143,
   "id": "1f325800",
   "metadata": {},
   "outputs": [],
   "source": [
    "data = pd.read_csv('Data\\credit_train_processed.csv', encoding='cp1251', index_col=0)"
   ]
  },
  {
   "cell_type": "code",
   "execution_count": 144,
   "id": "90e7a415",
   "metadata": {},
   "outputs": [
    {
     "data": {
      "text/html": [
       "<div>\n",
       "<style scoped>\n",
       "    .dataframe tbody tr th:only-of-type {\n",
       "        vertical-align: middle;\n",
       "    }\n",
       "\n",
       "    .dataframe tbody tr th {\n",
       "        vertical-align: top;\n",
       "    }\n",
       "\n",
       "    .dataframe thead th {\n",
       "        text-align: right;\n",
       "    }\n",
       "</style>\n",
       "<table border=\"1\" class=\"dataframe\">\n",
       "  <thead>\n",
       "    <tr style=\"text-align: right;\">\n",
       "      <th></th>\n",
       "      <th>gender</th>\n",
       "      <th>age</th>\n",
       "      <th>marital_status</th>\n",
       "      <th>job_position</th>\n",
       "      <th>credit_sum</th>\n",
       "      <th>credit_month</th>\n",
       "      <th>tariff_id</th>\n",
       "      <th>score_shk</th>\n",
       "      <th>education</th>\n",
       "      <th>living_region</th>\n",
       "      <th>monthly_income</th>\n",
       "      <th>credit_count</th>\n",
       "      <th>overdue_credit_count</th>\n",
       "      <th>open_account_flg</th>\n",
       "    </tr>\n",
       "  </thead>\n",
       "  <tbody>\n",
       "    <tr>\n",
       "      <th>0</th>\n",
       "      <td>M</td>\n",
       "      <td>NaN</td>\n",
       "      <td>NaN</td>\n",
       "      <td>UMN</td>\n",
       "      <td>59998.00</td>\n",
       "      <td>10</td>\n",
       "      <td>1_6</td>\n",
       "      <td>NaN</td>\n",
       "      <td>GRD</td>\n",
       "      <td>КРАСНОДАРСКИЙ</td>\n",
       "      <td>30000.0</td>\n",
       "      <td>1.0</td>\n",
       "      <td>1.0</td>\n",
       "      <td>0</td>\n",
       "    </tr>\n",
       "    <tr>\n",
       "      <th>1</th>\n",
       "      <td>F</td>\n",
       "      <td>NaN</td>\n",
       "      <td>MAR</td>\n",
       "      <td>UMN</td>\n",
       "      <td>10889.00</td>\n",
       "      <td>6</td>\n",
       "      <td>1_1</td>\n",
       "      <td>NaN</td>\n",
       "      <td>NaN</td>\n",
       "      <td>МОСКВА</td>\n",
       "      <td>NaN</td>\n",
       "      <td>2.0</td>\n",
       "      <td>0.0</td>\n",
       "      <td>0</td>\n",
       "    </tr>\n",
       "    <tr>\n",
       "      <th>2</th>\n",
       "      <td>M</td>\n",
       "      <td>32.0</td>\n",
       "      <td>MAR</td>\n",
       "      <td>SPC</td>\n",
       "      <td>10728.00</td>\n",
       "      <td>12</td>\n",
       "      <td>1_1</td>\n",
       "      <td>NaN</td>\n",
       "      <td>NaN</td>\n",
       "      <td>САРАТОВСКАЯ</td>\n",
       "      <td>NaN</td>\n",
       "      <td>5.0</td>\n",
       "      <td>0.0</td>\n",
       "      <td>0</td>\n",
       "    </tr>\n",
       "    <tr>\n",
       "      <th>3</th>\n",
       "      <td>F</td>\n",
       "      <td>27.0</td>\n",
       "      <td>NaN</td>\n",
       "      <td>SPC</td>\n",
       "      <td>12009.09</td>\n",
       "      <td>12</td>\n",
       "      <td>1_1</td>\n",
       "      <td>NaN</td>\n",
       "      <td>NaN</td>\n",
       "      <td>ВОЛГОГРАДСКАЯ</td>\n",
       "      <td>NaN</td>\n",
       "      <td>2.0</td>\n",
       "      <td>0.0</td>\n",
       "      <td>0</td>\n",
       "    </tr>\n",
       "    <tr>\n",
       "      <th>4</th>\n",
       "      <td>M</td>\n",
       "      <td>45.0</td>\n",
       "      <td>NaN</td>\n",
       "      <td>SPC</td>\n",
       "      <td>NaN</td>\n",
       "      <td>10</td>\n",
       "      <td>1_1</td>\n",
       "      <td>0.421385</td>\n",
       "      <td>SCH</td>\n",
       "      <td>ЧЕЛЯБИНСКАЯ</td>\n",
       "      <td>NaN</td>\n",
       "      <td>1.0</td>\n",
       "      <td>0.0</td>\n",
       "      <td>0</td>\n",
       "    </tr>\n",
       "  </tbody>\n",
       "</table>\n",
       "</div>"
      ],
      "text/plain": [
       "  gender   age marital_status job_position  credit_sum  credit_month  \\\n",
       "0      M   NaN            NaN          UMN    59998.00            10   \n",
       "1      F   NaN            MAR          UMN    10889.00             6   \n",
       "2      M  32.0            MAR          SPC    10728.00            12   \n",
       "3      F  27.0            NaN          SPC    12009.09            12   \n",
       "4      M  45.0            NaN          SPC         NaN            10   \n",
       "\n",
       "  tariff_id  score_shk education  living_region  monthly_income  credit_count  \\\n",
       "0       1_6        NaN       GRD  КРАСНОДАРСКИЙ         30000.0           1.0   \n",
       "1       1_1        NaN       NaN         МОСКВА             NaN           2.0   \n",
       "2       1_1        NaN       NaN    САРАТОВСКАЯ             NaN           5.0   \n",
       "3       1_1        NaN       NaN  ВОЛГОГРАДСКАЯ             NaN           2.0   \n",
       "4       1_1   0.421385       SCH    ЧЕЛЯБИНСКАЯ             NaN           1.0   \n",
       "\n",
       "   overdue_credit_count  open_account_flg  \n",
       "0                   1.0                 0  \n",
       "1                   0.0                 0  \n",
       "2                   0.0                 0  \n",
       "3                   0.0                 0  \n",
       "4                   0.0                 0  "
      ]
     },
     "execution_count": 144,
     "metadata": {},
     "output_type": "execute_result"
    }
   ],
   "source": [
    "data.head()"
   ]
  },
  {
   "cell_type": "markdown",
   "id": "f3382197",
   "metadata": {},
   "source": [
    "Разделим наши данные в соотношении 7:2:1."
   ]
  },
  {
   "cell_type": "code",
   "execution_count": 145,
   "id": "9ec63e5b",
   "metadata": {},
   "outputs": [],
   "source": [
    "train = data.sample(frac=0.7, random_state=RND_STATE).copy()\n",
    "\n",
    "valid = data.drop(train.index)\\\n",
    "             .sample(frac=0.66, random_state=RND_STATE).copy()\n",
    "\n",
    "test = data.drop(train.index).drop(valid.index).copy()"
   ]
  },
  {
   "cell_type": "code",
   "execution_count": 146,
   "id": "ccb26c1a",
   "metadata": {},
   "outputs": [
    {
     "name": "stdout",
     "output_type": "stream",
     "text": [
      "0.70\n",
      "0.20\n",
      "0.10\n"
     ]
    }
   ],
   "source": [
    "datasets = [train, valid, test]\n",
    "datasets_names = [\"Тренировочный\", \"Валидационный\", \"Контрольный\"]\n",
    "for df in datasets:\n",
    "    print(f'{df.shape[0] / data.shape[0]:.2f}')"
   ]
  },
  {
   "cell_type": "markdown",
   "id": "ff2a2c94",
   "metadata": {},
   "source": [
    "# Импутация пропусков\n",
    "\n",
    "Давайте посмотрим количество пропусков по каждой переменной в наших наборах данных."
   ]
  },
  {
   "cell_type": "code",
   "execution_count": 147,
   "id": "084897d5",
   "metadata": {},
   "outputs": [],
   "source": [
    "omission_info = pd.DataFrame(dict(zip(datasets_names, [df.isnull().sum() for df in datasets])))"
   ]
  },
  {
   "cell_type": "code",
   "execution_count": 148,
   "id": "898065a0",
   "metadata": {},
   "outputs": [
    {
     "data": {
      "text/html": [
       "<div>\n",
       "<style scoped>\n",
       "    .dataframe tbody tr th:only-of-type {\n",
       "        vertical-align: middle;\n",
       "    }\n",
       "\n",
       "    .dataframe tbody tr th {\n",
       "        vertical-align: top;\n",
       "    }\n",
       "\n",
       "    .dataframe thead th {\n",
       "        text-align: right;\n",
       "    }\n",
       "</style>\n",
       "<table border=\"1\" class=\"dataframe\">\n",
       "  <thead>\n",
       "    <tr style=\"text-align: right;\">\n",
       "      <th></th>\n",
       "      <th>Тренировочный</th>\n",
       "      <th>Валидационный</th>\n",
       "      <th>Контрольный</th>\n",
       "    </tr>\n",
       "  </thead>\n",
       "  <tbody>\n",
       "    <tr>\n",
       "      <th>gender</th>\n",
       "      <td>0</td>\n",
       "      <td>0</td>\n",
       "      <td>0</td>\n",
       "    </tr>\n",
       "    <tr>\n",
       "      <th>age</th>\n",
       "      <td>1</td>\n",
       "      <td>1</td>\n",
       "      <td>1</td>\n",
       "    </tr>\n",
       "    <tr>\n",
       "      <th>marital_status</th>\n",
       "      <td>2</td>\n",
       "      <td>1</td>\n",
       "      <td>0</td>\n",
       "    </tr>\n",
       "    <tr>\n",
       "      <th>job_position</th>\n",
       "      <td>0</td>\n",
       "      <td>0</td>\n",
       "      <td>0</td>\n",
       "    </tr>\n",
       "    <tr>\n",
       "      <th>credit_sum</th>\n",
       "      <td>1</td>\n",
       "      <td>0</td>\n",
       "      <td>1</td>\n",
       "    </tr>\n",
       "    <tr>\n",
       "      <th>credit_month</th>\n",
       "      <td>0</td>\n",
       "      <td>0</td>\n",
       "      <td>0</td>\n",
       "    </tr>\n",
       "    <tr>\n",
       "      <th>tariff_id</th>\n",
       "      <td>0</td>\n",
       "      <td>0</td>\n",
       "      <td>0</td>\n",
       "    </tr>\n",
       "    <tr>\n",
       "      <th>score_shk</th>\n",
       "      <td>5</td>\n",
       "      <td>1</td>\n",
       "      <td>1</td>\n",
       "    </tr>\n",
       "    <tr>\n",
       "      <th>education</th>\n",
       "      <td>5</td>\n",
       "      <td>0</td>\n",
       "      <td>0</td>\n",
       "    </tr>\n",
       "    <tr>\n",
       "      <th>living_region</th>\n",
       "      <td>144</td>\n",
       "      <td>29</td>\n",
       "      <td>19</td>\n",
       "    </tr>\n",
       "    <tr>\n",
       "      <th>monthly_income</th>\n",
       "      <td>5</td>\n",
       "      <td>0</td>\n",
       "      <td>0</td>\n",
       "    </tr>\n",
       "    <tr>\n",
       "      <th>credit_count</th>\n",
       "      <td>6525</td>\n",
       "      <td>1795</td>\n",
       "      <td>910</td>\n",
       "    </tr>\n",
       "    <tr>\n",
       "      <th>overdue_credit_count</th>\n",
       "      <td>6525</td>\n",
       "      <td>1795</td>\n",
       "      <td>910</td>\n",
       "    </tr>\n",
       "    <tr>\n",
       "      <th>open_account_flg</th>\n",
       "      <td>0</td>\n",
       "      <td>0</td>\n",
       "      <td>0</td>\n",
       "    </tr>\n",
       "  </tbody>\n",
       "</table>\n",
       "</div>"
      ],
      "text/plain": [
       "                      Тренировочный  Валидационный  Контрольный\n",
       "gender                            0              0            0\n",
       "age                               1              1            1\n",
       "marital_status                    2              1            0\n",
       "job_position                      0              0            0\n",
       "credit_sum                        1              0            1\n",
       "credit_month                      0              0            0\n",
       "tariff_id                         0              0            0\n",
       "score_shk                         5              1            1\n",
       "education                         5              0            0\n",
       "living_region                   144             29           19\n",
       "monthly_income                    5              0            0\n",
       "credit_count                   6525           1795          910\n",
       "overdue_credit_count           6525           1795          910\n",
       "open_account_flg                  0              0            0"
      ]
     },
     "execution_count": 148,
     "metadata": {},
     "output_type": "execute_result"
    }
   ],
   "source": [
    "omission_info"
   ]
  },
  {
   "cell_type": "markdown",
   "id": "3f26e32c",
   "metadata": {},
   "source": [
    "Пропуски в переменных будем проводить различными способами в зависимости от типа рассматриваемой переменной (категориальной или количественной). \n",
    "\n",
    "В случае *категориальной* переменной заполнение будем проводить <ins>модой</ins> **тренировочного** набора.\n",
    "\n",
    "В случае *количественной* переменной заполнение проводится в зависимости от типа ее распределения (симметричный, ассиметричный):\n",
    "* симметричный - можно воспользоваться <ins>средним</ins> значением **тренировочного** набора. Например, для параметра `age`.\n",
    "* ассиметричный - лучше пользоваться <ins>медианой</ins> **тренировочного** набора, чтобы избежать влияния \"черных лебедей\".\n",
    "\n",
    "Также можно заполнить значением выходящим за диапазон непропущенных значений, например, большим отрицательным числом."
   ]
  },
  {
   "cell_type": "markdown",
   "id": "83fad048",
   "metadata": {},
   "source": [
    "## Количественные переменные"
   ]
  },
  {
   "cell_type": "code",
   "execution_count": 149,
   "id": "40c0a52f",
   "metadata": {},
   "outputs": [
    {
     "name": "stdout",
     "output_type": "stream",
     "text": [
      "Количественные переменные: ['age' 'credit_sum' 'credit_month' 'score_shk' 'monthly_income'\n",
      " 'credit_count' 'overdue_credit_count' 'open_account_flg']\n"
     ]
    }
   ],
   "source": [
    "print(f'Количественные переменные: {test.dtypes[test.dtypes != object].index.values}')"
   ]
  },
  {
   "cell_type": "code",
   "execution_count": 150,
   "id": "f4222a35",
   "metadata": {},
   "outputs": [],
   "source": [
    "# Заполняем пропуски в переменных 'age', 'credit_sum', 'score_shk', 'monthly_income'\n",
    "# медианой тренировочного набора.\n",
    "for col in ['age', 'credit_sum', 'score_shk', 'monthly_income']:\n",
    "    for df in datasets:\n",
    "        df[col].fillna(train[col].median(), inplace=True)"
   ]
  },
  {
   "cell_type": "code",
   "execution_count": 151,
   "id": "badd0f39",
   "metadata": {},
   "outputs": [],
   "source": [
    "# Для переменных 'credit_count' и 'overdue_credit_count' заполним пропуски значением -1\n",
    "for col in ['credit_count', 'overdue_credit_count']:\n",
    "    for df in datasets:\n",
    "        df[col].fillna(-1, inplace=True)"
   ]
  },
  {
   "cell_type": "markdown",
   "id": "0b2c078b",
   "metadata": {},
   "source": [
    "## Категориальные переменные"
   ]
  },
  {
   "cell_type": "code",
   "execution_count": 152,
   "id": "c7b5f3bd",
   "metadata": {},
   "outputs": [
    {
     "name": "stdout",
     "output_type": "stream",
     "text": [
      "Категориальные переменные: ['gender' 'marital_status' 'job_position' 'tariff_id' 'education'\n",
      " 'living_region']\n"
     ]
    }
   ],
   "source": [
    "print(f'Категориальные переменные: {test.dtypes[test.dtypes == object].index.values}')"
   ]
  },
  {
   "cell_type": "code",
   "execution_count": 153,
   "id": "0afcca09",
   "metadata": {},
   "outputs": [],
   "source": [
    "need_to_fix_categorical = omission_info.loc[test.dtypes[test.dtypes == object].index]\\\n",
    "                                        .sum(axis=1) > 0"
   ]
  },
  {
   "cell_type": "code",
   "execution_count": 154,
   "id": "2fe776c4",
   "metadata": {},
   "outputs": [
    {
     "data": {
      "text/plain": [
       "marital_status    True\n",
       "education         True\n",
       "living_region     True\n",
       "dtype: bool"
      ]
     },
     "execution_count": 154,
     "metadata": {},
     "output_type": "execute_result"
    }
   ],
   "source": [
    "need_to_fix_categorical[need_to_fix_categorical]"
   ]
  },
  {
   "cell_type": "code",
   "execution_count": 155,
   "id": "76cd0d67",
   "metadata": {},
   "outputs": [],
   "source": [
    "for cat in ['marital_status', 'education']:\n",
    "    for df in datasets:\n",
    "        df[cat].fillna(train[cat].mode().values[0], inplace=True)"
   ]
  },
  {
   "cell_type": "code",
   "execution_count": 156,
   "id": "f54601d9",
   "metadata": {},
   "outputs": [],
   "source": [
    "for df in datasets:\n",
    "        df['living_region'].fillna('НЕ УКАЗАН', inplace=True)"
   ]
  },
  {
   "cell_type": "code",
   "execution_count": 157,
   "id": "7ca8974f",
   "metadata": {},
   "outputs": [
    {
     "data": {
      "text/html": [
       "<div>\n",
       "<style scoped>\n",
       "    .dataframe tbody tr th:only-of-type {\n",
       "        vertical-align: middle;\n",
       "    }\n",
       "\n",
       "    .dataframe tbody tr th {\n",
       "        vertical-align: top;\n",
       "    }\n",
       "\n",
       "    .dataframe thead th {\n",
       "        text-align: right;\n",
       "    }\n",
       "</style>\n",
       "<table border=\"1\" class=\"dataframe\">\n",
       "  <thead>\n",
       "    <tr style=\"text-align: right;\">\n",
       "      <th></th>\n",
       "      <th>Тренировочный</th>\n",
       "      <th>Валидационный</th>\n",
       "      <th>Контрольный</th>\n",
       "    </tr>\n",
       "  </thead>\n",
       "  <tbody>\n",
       "    <tr>\n",
       "      <th>gender</th>\n",
       "      <td>0</td>\n",
       "      <td>0</td>\n",
       "      <td>0</td>\n",
       "    </tr>\n",
       "    <tr>\n",
       "      <th>age</th>\n",
       "      <td>0</td>\n",
       "      <td>0</td>\n",
       "      <td>0</td>\n",
       "    </tr>\n",
       "    <tr>\n",
       "      <th>marital_status</th>\n",
       "      <td>0</td>\n",
       "      <td>0</td>\n",
       "      <td>0</td>\n",
       "    </tr>\n",
       "    <tr>\n",
       "      <th>job_position</th>\n",
       "      <td>0</td>\n",
       "      <td>0</td>\n",
       "      <td>0</td>\n",
       "    </tr>\n",
       "    <tr>\n",
       "      <th>credit_sum</th>\n",
       "      <td>0</td>\n",
       "      <td>0</td>\n",
       "      <td>0</td>\n",
       "    </tr>\n",
       "    <tr>\n",
       "      <th>credit_month</th>\n",
       "      <td>0</td>\n",
       "      <td>0</td>\n",
       "      <td>0</td>\n",
       "    </tr>\n",
       "    <tr>\n",
       "      <th>tariff_id</th>\n",
       "      <td>0</td>\n",
       "      <td>0</td>\n",
       "      <td>0</td>\n",
       "    </tr>\n",
       "    <tr>\n",
       "      <th>score_shk</th>\n",
       "      <td>0</td>\n",
       "      <td>0</td>\n",
       "      <td>0</td>\n",
       "    </tr>\n",
       "    <tr>\n",
       "      <th>education</th>\n",
       "      <td>0</td>\n",
       "      <td>0</td>\n",
       "      <td>0</td>\n",
       "    </tr>\n",
       "    <tr>\n",
       "      <th>living_region</th>\n",
       "      <td>0</td>\n",
       "      <td>0</td>\n",
       "      <td>0</td>\n",
       "    </tr>\n",
       "    <tr>\n",
       "      <th>monthly_income</th>\n",
       "      <td>0</td>\n",
       "      <td>0</td>\n",
       "      <td>0</td>\n",
       "    </tr>\n",
       "    <tr>\n",
       "      <th>credit_count</th>\n",
       "      <td>0</td>\n",
       "      <td>0</td>\n",
       "      <td>0</td>\n",
       "    </tr>\n",
       "    <tr>\n",
       "      <th>overdue_credit_count</th>\n",
       "      <td>0</td>\n",
       "      <td>0</td>\n",
       "      <td>0</td>\n",
       "    </tr>\n",
       "    <tr>\n",
       "      <th>open_account_flg</th>\n",
       "      <td>0</td>\n",
       "      <td>0</td>\n",
       "      <td>0</td>\n",
       "    </tr>\n",
       "  </tbody>\n",
       "</table>\n",
       "</div>"
      ],
      "text/plain": [
       "                      Тренировочный  Валидационный  Контрольный\n",
       "gender                            0              0            0\n",
       "age                               0              0            0\n",
       "marital_status                    0              0            0\n",
       "job_position                      0              0            0\n",
       "credit_sum                        0              0            0\n",
       "credit_month                      0              0            0\n",
       "tariff_id                         0              0            0\n",
       "score_shk                         0              0            0\n",
       "education                         0              0            0\n",
       "living_region                     0              0            0\n",
       "monthly_income                    0              0            0\n",
       "credit_count                      0              0            0\n",
       "overdue_credit_count              0              0            0\n",
       "open_account_flg                  0              0            0"
      ]
     },
     "execution_count": 157,
     "metadata": {},
     "output_type": "execute_result"
    }
   ],
   "source": [
    "omission_info_after = pd.DataFrame(dict(zip(datasets_names, [df.isnull().sum() for df in datasets])))\n",
    "omission_info_after"
   ]
  },
  {
   "cell_type": "markdown",
   "id": "377ae1d3",
   "metadata": {},
   "source": [
    "# Конструирование новых признаков (Feature Engineering)"
   ]
  },
  {
   "cell_type": "code",
   "execution_count": null,
   "id": "6ef77e88",
   "metadata": {},
   "outputs": [],
   "source": []
  },
  {
   "cell_type": "markdown",
   "id": "b7817639",
   "metadata": {},
   "source": [
    "Начнем конструирование новых признаков, исходя из знаний предметной области."
   ]
  },
  {
   "cell_type": "code",
   "execution_count": 158,
   "id": "1277010c",
   "metadata": {},
   "outputs": [
    {
     "name": "stdout",
     "output_type": "stream",
     "text": [
      "Категориальные переменные: Index(['age', 'credit_sum', 'credit_month', 'score_shk', 'monthly_income',\n",
      "       'credit_count', 'overdue_credit_count', 'open_account_flg'],\n",
      "      dtype='object')\n"
     ]
    }
   ],
   "source": [
    "print(f'Категориальные переменные: {test.dtypes[test.dtypes != object].index}')"
   ]
  },
  {
   "cell_type": "code",
   "execution_count": 159,
   "id": "58f67bfa",
   "metadata": {},
   "outputs": [],
   "source": [
    "# Рассчитаем ежемесячный платеж по кредиту для всех датасетов\n",
    "for df in datasets:\n",
    "    df['month_payment'] = df['credit_sum'] / df['credit_month']\n",
    "# Заменим бесконечные значения, которые могли образоваться при делении, на -1\n",
    "    df['month_payment'].replace([np.inf, -np.inf], -1, inplace=True)"
   ]
  },
  {
   "cell_type": "code",
   "execution_count": 160,
   "id": "e67b5a07",
   "metadata": {},
   "outputs": [],
   "source": [
    "# Также важным параметром является какую долю зарплаты человек будет отдавать на погашение кредита\n",
    "for df in datasets:\n",
    "    df['payment_income_part'] = df['month_payment'] / df['monthly_income']\n",
    "# Заменим бесконечные значения, которые могли образоваться при делении, на -1    \n",
    "    df['payment_income_part'].replace([np.inf, -np.inf], -1, inplace=True)"
   ]
  },
  {
   "cell_type": "markdown",
   "id": "0d0943b4",
   "metadata": {},
   "source": [
    "Теперь создадим переменные - средние значения количественной переменной, взятые по уровню категориальной переменной. Например, колонка `score_is_gt_median_education` отображает превосходит ли внутренняя скоринговая оценка клиента медианное значение для людей с таким же образованием."
   ]
  },
  {
   "cell_type": "code",
   "execution_count": 171,
   "id": "36caa920",
   "metadata": {},
   "outputs": [],
   "source": [
    "categorical_cols = ['living_region', 'age', 'gender',\n",
    "                     'marital_status', 'job_position', 'education']\n",
    "quantitative_cols = ['monthly_income', 'score_shk']\n",
    "\n",
    "category_col_names = dict(zip(categorical_cols, ['region', 'age', 'gender',\n",
    "                                                 'marital', 'job', 'education']))\n",
    "quantitative_col_names = dict(zip(quantitative_cols, ['income', 'score']))\n",
    "\n",
    "for category in categorical_cols:\n",
    "    for indicator in quantitative_cols:\n",
    "        grouped = train.groupby(category).agg(np.median)[indicator]\n",
    "        median_col_name = category_col_names[category] + '_median_' +  quantitative_col_names[indicator]\n",
    "        is_gt_median_col_name = quantitative_col_names[indicator] + '_is_gt_median_' + category_col_names[category]                          \n",
    "        for df in datasets:\n",
    "            df[median_col_name] = df[category].map(lambda x: grouped[x])                      \n",
    "            df[is_gt_median_col_name] = np.where(df[indicator] >= df[median_col_name], 'YES', 'NO')"
   ]
  },
  {
   "cell_type": "code",
   "execution_count": null,
   "id": "ace978d3",
   "metadata": {},
   "outputs": [],
   "source": []
  },
  {
   "cell_type": "code",
   "execution_count": null,
   "id": "2e2fa9c1",
   "metadata": {},
   "outputs": [],
   "source": []
  },
  {
   "cell_type": "code",
   "execution_count": null,
   "id": "59a9cb38",
   "metadata": {},
   "outputs": [],
   "source": []
  },
  {
   "cell_type": "code",
   "execution_count": null,
   "id": "77f481c6",
   "metadata": {},
   "outputs": [],
   "source": []
  },
  {
   "cell_type": "code",
   "execution_count": null,
   "id": "66a91d93",
   "metadata": {},
   "outputs": [],
   "source": []
  },
  {
   "cell_type": "code",
   "execution_count": null,
   "id": "abc22dff",
   "metadata": {},
   "outputs": [],
   "source": []
  },
  {
   "cell_type": "code",
   "execution_count": null,
   "id": "c61e1ee3",
   "metadata": {},
   "outputs": [],
   "source": []
  },
  {
   "cell_type": "code",
   "execution_count": null,
   "id": "494c8ae9",
   "metadata": {},
   "outputs": [],
   "source": []
  },
  {
   "cell_type": "code",
   "execution_count": null,
   "id": "5990fc64",
   "metadata": {},
   "outputs": [],
   "source": []
  },
  {
   "cell_type": "code",
   "execution_count": null,
   "id": "01cb931d",
   "metadata": {},
   "outputs": [],
   "source": []
  },
  {
   "cell_type": "code",
   "execution_count": null,
   "id": "d4b1b74b",
   "metadata": {},
   "outputs": [],
   "source": []
  },
  {
   "cell_type": "code",
   "execution_count": null,
   "id": "2b8640c6",
   "metadata": {},
   "outputs": [],
   "source": []
  },
  {
   "cell_type": "code",
   "execution_count": null,
   "id": "35177b08",
   "metadata": {},
   "outputs": [],
   "source": []
  },
  {
   "cell_type": "code",
   "execution_count": null,
   "id": "d9d63b7c",
   "metadata": {},
   "outputs": [],
   "source": []
  }
 ],
 "metadata": {
  "kernelspec": {
   "display_name": "Python 3",
   "language": "python",
   "name": "python3"
  },
  "language_info": {
   "codemirror_mode": {
    "name": "ipython",
    "version": 3
   },
   "file_extension": ".py",
   "mimetype": "text/x-python",
   "name": "python",
   "nbconvert_exporter": "python",
   "pygments_lexer": "ipython3",
   "version": "3.9.5"
  }
 },
 "nbformat": 4,
 "nbformat_minor": 5
}
