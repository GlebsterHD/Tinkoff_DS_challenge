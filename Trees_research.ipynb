{
 "cells": [
  {
   "cell_type": "code",
   "execution_count": 35,
   "id": "0707f89c",
   "metadata": {},
   "outputs": [],
   "source": [
    "import numpy as np\n",
    "import pandas as pd\n",
    "import matplotlib.pyplot as plt\n",
    "%matplotlib inline\n",
    "import seaborn as sns\n",
    "\n",
    "from sklearn.tree import DecisionTreeClassifier\n",
    "from sklearn.ensemble import RandomForestClassifier\n",
    "\n",
    "from sklearn.model_selection import validation_curve, RandomizedSearchCV, StratifiedKFold, GridSearchCV\n",
    "from sklearn.metrics import precision_score, recall_score, auc, accuracy_score, roc_auc_score, f1_score, log_loss,\\\n",
    "classification_report, roc_curve, confusion_matrix\n",
    "\n",
    "RND_STATE = 777"
   ]
  },
  {
   "cell_type": "code",
   "execution_count": 12,
   "id": "4578d7c6",
   "metadata": {},
   "outputs": [],
   "source": [
    "datasets_path = [\"Train_wo_na.csv\", \"Valid_wo_na.csv\", \"Control_wo_na.csv\"]\n",
    "\n",
    "train = pd.read_csv(fr'Data\\{datasets_path[0]}', encoding='cp1251', index_col = 0).copy()\n",
    "valid = pd.read_csv(fr'Data\\{datasets_path[1]}', encoding='cp1251', index_col = 0).copy()\n",
    "test = pd.read_csv(fr'Data\\{datasets_path[2]}', encoding='cp1251', index_col = 0).copy()"
   ]
  },
  {
   "cell_type": "code",
   "execution_count": 13,
   "id": "e27cc80a",
   "metadata": {},
   "outputs": [],
   "source": [
    "cat_cols = train.dtypes[train.dtypes == 'object'].index\n",
    "\n",
    "train_label = pd.get_dummies(train, columns=cat_cols, drop_first=True)\n",
    "valid_label = pd.get_dummies(valid, columns=cat_cols, drop_first=True)\n",
    "test_label = pd.get_dummies(test, columns=cat_cols, drop_first=True)"
   ]
  },
  {
   "cell_type": "code",
   "execution_count": 14,
   "id": "354d2a79",
   "metadata": {},
   "outputs": [],
   "source": [
    "X_train = train_label.drop('open_account_flg', axis=1)\n",
    "y_train = train_label['open_account_flg']\n",
    "\n",
    "X_valid = valid_label.drop('open_account_flg', axis=1)\n",
    "y_valid = valid_label['open_account_flg']\n",
    "\n",
    "X_test = test_label.drop('open_account_flg', axis=1)\n",
    "y_test = test_label['open_account_flg']"
   ]
  },
  {
   "cell_type": "markdown",
   "id": "ab688b8a",
   "metadata": {},
   "source": [
    "Сейчас мы посмотрим как работают деревья решений и так называемые ансамблевые методы, когда применяется несколько деревьев и проводится голосование. Два основных типа ансамблей - бэггинг и бустинг. \n",
    "\n",
    "Бэггинг предполагает создание нескольких деревьев. Каждое дерево тренируется на наборе данных, который извлечен из наших базовых наборов путем отбора наблюдений и признаков.\n",
    "\n",
    "Бустинг предполагает также создание нескольких деревьев. Но деревья тренируются не параллельно, а последовательно. Причем на каждом последующем шаге учитываются результаты предыдущего. \n",
    "\n",
    "Рекомендую ознакомиться с этими методами по книге Практическая статистика для специалистов Data Science (Питер Брюс, Эндрю Брюс). Хороший материал по деревьям [здесь](https://loginom.ru/blog/decision-tree-p1)"
   ]
  },
  {
   "cell_type": "code",
   "execution_count": 15,
   "id": "f1f0dd24",
   "metadata": {},
   "outputs": [],
   "source": [
    "tree_metrics = pd.DataFrame(index=['roc-auc', 'roc-auc_oob', 'precision',\n",
    "                                 'recall', 'f1', 'logloss'])"
   ]
  },
  {
   "cell_type": "markdown",
   "id": "6b4f8f33",
   "metadata": {},
   "source": [
    "# Модель на основе решающего дерева"
   ]
  },
  {
   "cell_type": "code",
   "execution_count": 16,
   "id": "c4e60a3f",
   "metadata": {},
   "outputs": [],
   "source": [
    "def make_tree_classifier(x_train, y_train, x_valid, y_valid, results_df, model_name,\n",
    "                         model_type, parameters={'min_samples_leaf':20}):\n",
    "    model_types={\n",
    "        'tree':DecisionTreeClassifier,\n",
    "        'RF':RandomForestClassifier\n",
    "    }\n",
    "    \n",
    "    model = model_types[model_type](**parameters,\n",
    "                                     class_weight = 'balanced',\n",
    "                                     random_state=RND_STATE)\n",
    "    model.fit(x_train, y_train)\n",
    "    \n",
    "    y_pred = model.predict(x_valid)\n",
    "    y_score = model.predict_proba(x_valid)[:,1]\n",
    "    \n",
    "    roc_auc_oob = roc_auc_score(y_train, model.oob_decision_function_[:, 1])\\\n",
    "    if model_type == 'RF' else np.NaN\n",
    "    \n",
    "    results_df[model_name] = [roc_auc_score(y_valid, y_score),\n",
    "                              roc_auc_oob,\n",
    "                              precision_score(y_valid, y_pred),\n",
    "                              recall_score(y_valid, y_pred),\n",
    "                              f1_score(y_valid, y_pred),\n",
    "                              log_loss(y_valid, y_pred)]\n",
    "    \n",
    "    fpr_baseline, tpr_baseline, thresholds = roc_curve(y_valid, y_score)\n",
    "\n",
    "    roc_auc_baseline = auc(fpr_baseline, tpr_baseline)\n",
    "\n",
    "    plt.plot(fpr_baseline, tpr_baseline, color='orange',\n",
    "             label=f'ROC curve (area = {roc_auc_baseline:.3f})')\n",
    "    plt.plot([0, 1], [0, 1], color='navy', lw=2, linestyle='--')\n",
    "    plt.xlim([0.0, 1.0])\n",
    "    plt.ylim([0.0, 1.05])\n",
    "\n",
    "    plt.xlabel('False Positive Rate')\n",
    "    plt.ylabel('True Positive Rate')\n",
    "\n",
    "    plt.title('Tree-based classifier ROC AUC')\n",
    "    plt.legend(loc=\"lower right\")\n",
    "    plt.show()\n",
    "    return model"
   ]
  },
  {
   "cell_type": "code",
   "execution_count": 17,
   "id": "63574727",
   "metadata": {},
   "outputs": [
    {
     "data": {
      "image/png": "[encoded data removed]",
      "text/plain": [
       "<Figure size 432x288 with 1 Axes>"
      ]
     },
     "metadata": {
      "needs_background": "light"
     },
     "output_type": "display_data"
    }
   ],
   "source": [
    "basic_tree = make_tree_classifier(x_train=X_train,\n",
    "                                  y_train=y_train,\n",
    "                                  x_valid=X_valid,\n",
    "                                  y_valid=y_valid,\n",
    "                                  results_df=tree_metrics,\n",
    "                                  model_name='basic_tree',\n",
    "                                  model_type='tree')"
   ]
  },
  {
   "cell_type": "code",
   "execution_count": 18,
   "id": "6a1fd61e",
   "metadata": {},
   "outputs": [
    {
     "data": {
      "text/html": [
       "<div>\n",
       "<style scoped>\n",
       "    .dataframe tbody tr th:only-of-type {\n",
       "        vertical-align: middle;\n",
       "    }\n",
       "\n",
       "    .dataframe tbody tr th {\n",
       "        vertical-align: top;\n",
       "    }\n",
       "\n",
       "    .dataframe thead th {\n",
       "        text-align: right;\n",
       "    }\n",
       "</style>\n",
       "<table border=\"1\" class=\"dataframe\">\n",
       "  <thead>\n",
       "    <tr style=\"text-align: right;\">\n",
       "      <th></th>\n",
       "      <th>basic_tree</th>\n",
       "    </tr>\n",
       "  </thead>\n",
       "  <tbody>\n",
       "    <tr>\n",
       "      <th>roc-auc</th>\n",
       "      <td>0.679725</td>\n",
       "    </tr>\n",
       "    <tr>\n",
       "      <th>roc-auc_oob</th>\n",
       "      <td>NaN</td>\n",
       "    </tr>\n",
       "    <tr>\n",
       "      <th>precision</th>\n",
       "      <td>0.274826</td>\n",
       "    </tr>\n",
       "    <tr>\n",
       "      <th>recall</th>\n",
       "      <td>0.602880</td>\n",
       "    </tr>\n",
       "    <tr>\n",
       "      <th>f1</th>\n",
       "      <td>0.377546</td>\n",
       "    </tr>\n",
       "    <tr>\n",
       "      <th>logloss</th>\n",
       "      <td>12.085777</td>\n",
       "    </tr>\n",
       "  </tbody>\n",
       "</table>\n",
       "</div>"
      ],
      "text/plain": [
       "             basic_tree\n",
       "roc-auc        0.679725\n",
       "roc-auc_oob         NaN\n",
       "precision      0.274826\n",
       "recall         0.602880\n",
       "f1             0.377546\n",
       "logloss       12.085777"
      ]
     },
     "execution_count": 18,
     "metadata": {},
     "output_type": "execute_result"
    }
   ],
   "source": [
    "tree_metrics"
   ]
  },
  {
   "cell_type": "code",
   "execution_count": 19,
   "id": "b29ba704",
   "metadata": {},
   "outputs": [
    {
     "data": {
      "text/plain": [
       "<AxesSubplot:>"
      ]
     },
     "execution_count": 19,
     "metadata": {},
     "output_type": "execute_result"
    },
    {
     "data": {
      "image/png": "[encoded data removed]",
      "text/plain": [
       "<Figure size 432x288 with 1 Axes>"
      ]
     },
     "metadata": {
      "needs_background": "light"
     },
     "output_type": "display_data"
    }
   ],
   "source": [
    "feat_imp_basic_tree = pd.DataFrame(index=X_train.columns, columns=['importance'], data=basic_tree.feature_importances_)\n",
    "feat_imp_basic_tree.sort_values('importance', ascending=False)[:15].plot(kind='barh')"
   ]
  },
  {
   "cell_type": "markdown",
   "id": "f79502e6",
   "metadata": {},
   "source": [
    "# Модель на основе случайного леса"
   ]
  },
  {
   "cell_type": "code",
   "execution_count": 20,
   "id": "e4b37b9c",
   "metadata": {},
   "outputs": [
    {
     "data": {
      "image/png": "[encoded data removed]",
      "text/plain": [
       "<Figure size 432x288 with 1 Axes>"
      ]
     },
     "metadata": {
      "needs_background": "light"
     },
     "output_type": "display_data"
    }
   ],
   "source": [
    "basic_RF = make_tree_classifier(x_train=X_train,\n",
    "                                y_train=y_train,\n",
    "                                x_valid=X_valid,\n",
    "                                y_valid=y_valid,\n",
    "                                results_df=tree_metrics,\n",
    "                                model_name='basic_RF',\n",
    "                                model_type='RF',\n",
    "                                parameters={'n_jobs':-1,\n",
    "                                            'max_features':'sqrt',\n",
    "                                            'oob_score':True})"
   ]
  },
  {
   "cell_type": "code",
   "execution_count": 21,
   "id": "63010787",
   "metadata": {},
   "outputs": [
    {
     "data": {
      "text/html": [
       "<div>\n",
       "<style scoped>\n",
       "    .dataframe tbody tr th:only-of-type {\n",
       "        vertical-align: middle;\n",
       "    }\n",
       "\n",
       "    .dataframe tbody tr th {\n",
       "        vertical-align: top;\n",
       "    }\n",
       "\n",
       "    .dataframe thead th {\n",
       "        text-align: right;\n",
       "    }\n",
       "</style>\n",
       "<table border=\"1\" class=\"dataframe\">\n",
       "  <thead>\n",
       "    <tr style=\"text-align: right;\">\n",
       "      <th></th>\n",
       "      <th>basic_tree</th>\n",
       "      <th>basic_RF</th>\n",
       "    </tr>\n",
       "  </thead>\n",
       "  <tbody>\n",
       "    <tr>\n",
       "      <th>roc-auc</th>\n",
       "      <td>0.679725</td>\n",
       "      <td>0.739555</td>\n",
       "    </tr>\n",
       "    <tr>\n",
       "      <th>roc-auc_oob</th>\n",
       "      <td>NaN</td>\n",
       "      <td>0.730259</td>\n",
       "    </tr>\n",
       "    <tr>\n",
       "      <th>precision</th>\n",
       "      <td>0.274826</td>\n",
       "      <td>0.509485</td>\n",
       "    </tr>\n",
       "    <tr>\n",
       "      <th>recall</th>\n",
       "      <td>0.602880</td>\n",
       "      <td>0.093362</td>\n",
       "    </tr>\n",
       "    <tr>\n",
       "      <th>f1</th>\n",
       "      <td>0.377546</td>\n",
       "      <td>0.157806</td>\n",
       "    </tr>\n",
       "    <tr>\n",
       "      <th>logloss</th>\n",
       "      <td>12.085777</td>\n",
       "      <td>6.058388</td>\n",
       "    </tr>\n",
       "  </tbody>\n",
       "</table>\n",
       "</div>"
      ],
      "text/plain": [
       "             basic_tree  basic_RF\n",
       "roc-auc        0.679725  0.739555\n",
       "roc-auc_oob         NaN  0.730259\n",
       "precision      0.274826  0.509485\n",
       "recall         0.602880  0.093362\n",
       "f1             0.377546  0.157806\n",
       "logloss       12.085777  6.058388"
      ]
     },
     "execution_count": 21,
     "metadata": {},
     "output_type": "execute_result"
    }
   ],
   "source": [
    "tree_metrics"
   ]
  },
  {
   "cell_type": "code",
   "execution_count": 22,
   "id": "6f4507a8",
   "metadata": {},
   "outputs": [
    {
     "data": {
      "text/plain": [
       "<AxesSubplot:>"
      ]
     },
     "execution_count": 22,
     "metadata": {},
     "output_type": "execute_result"
    },
    {
     "data": {
      "image/png": "[encoded data removed]",
      "text/plain": [
       "<Figure size 432x288 with 1 Axes>"
      ]
     },
     "metadata": {
      "needs_background": "light"
     },
     "output_type": "display_data"
    }
   ],
   "source": [
    "feat_imp_basic_RF = pd.DataFrame(index=X_train.columns,\n",
    "                                 columns=['importance'],\n",
    "                                 data=basic_RF.feature_importances_)\n",
    "feat_imp_basic_RF.sort_values('importance', ascending=False)[:15].plot(kind='barh')"
   ]
  },
  {
   "cell_type": "markdown",
   "id": "0b803305",
   "metadata": {},
   "source": [
    "## Увеличим количество деревьев, но срежем глубину"
   ]
  },
  {
   "cell_type": "code",
   "execution_count": 23,
   "id": "5b18b381",
   "metadata": {},
   "outputs": [
    {
     "data": {
      "image/png": "[encoded data removed]",
      "text/plain": [
       "<Figure size 432x288 with 1 Axes>"
      ]
     },
     "metadata": {
      "needs_background": "light"
     },
     "output_type": "display_data"
    }
   ],
   "source": [
    "basic_RF_1000 = make_tree_classifier(x_train=X_train,\n",
    "                                     y_train=y_train,\n",
    "                                     x_valid=X_valid,\n",
    "                                     y_valid=y_valid,\n",
    "                                     results_df=tree_metrics,\n",
    "                                     model_name='basic_RF_1000',\n",
    "                                     model_type='RF',\n",
    "                                     parameters={'n_jobs':-1,\n",
    "                                                 'max_features':'sqrt',\n",
    "                                                 'oob_score':True,\n",
    "                                                 'n_estimators':1000,\n",
    "                                                 'max_depth':20})"
   ]
  },
  {
   "cell_type": "code",
   "execution_count": 24,
   "id": "4d4afaff",
   "metadata": {},
   "outputs": [
    {
     "data": {
      "text/html": [
       "<div>\n",
       "<style scoped>\n",
       "    .dataframe tbody tr th:only-of-type {\n",
       "        vertical-align: middle;\n",
       "    }\n",
       "\n",
       "    .dataframe tbody tr th {\n",
       "        vertical-align: top;\n",
       "    }\n",
       "\n",
       "    .dataframe thead th {\n",
       "        text-align: right;\n",
       "    }\n",
       "</style>\n",
       "<table border=\"1\" class=\"dataframe\">\n",
       "  <thead>\n",
       "    <tr style=\"text-align: right;\">\n",
       "      <th></th>\n",
       "      <th>basic_tree</th>\n",
       "      <th>basic_RF</th>\n",
       "      <th>basic_RF_1000</th>\n",
       "    </tr>\n",
       "  </thead>\n",
       "  <tbody>\n",
       "    <tr>\n",
       "      <th>roc-auc</th>\n",
       "      <td>0.679725</td>\n",
       "      <td>0.739555</td>\n",
       "      <td>0.746538</td>\n",
       "    </tr>\n",
       "    <tr>\n",
       "      <th>roc-auc_oob</th>\n",
       "      <td>NaN</td>\n",
       "      <td>0.730259</td>\n",
       "      <td>0.749184</td>\n",
       "    </tr>\n",
       "    <tr>\n",
       "      <th>precision</th>\n",
       "      <td>0.274826</td>\n",
       "      <td>0.509485</td>\n",
       "      <td>0.359080</td>\n",
       "    </tr>\n",
       "    <tr>\n",
       "      <th>recall</th>\n",
       "      <td>0.602880</td>\n",
       "      <td>0.093362</td>\n",
       "      <td>0.519450</td>\n",
       "    </tr>\n",
       "    <tr>\n",
       "      <th>f1</th>\n",
       "      <td>0.377546</td>\n",
       "      <td>0.157806</td>\n",
       "      <td>0.424628</td>\n",
       "    </tr>\n",
       "    <tr>\n",
       "      <th>logloss</th>\n",
       "      <td>12.085777</td>\n",
       "      <td>6.058388</td>\n",
       "      <td>8.558340</td>\n",
       "    </tr>\n",
       "  </tbody>\n",
       "</table>\n",
       "</div>"
      ],
      "text/plain": [
       "             basic_tree  basic_RF  basic_RF_1000\n",
       "roc-auc        0.679725  0.739555       0.746538\n",
       "roc-auc_oob         NaN  0.730259       0.749184\n",
       "precision      0.274826  0.509485       0.359080\n",
       "recall         0.602880  0.093362       0.519450\n",
       "f1             0.377546  0.157806       0.424628\n",
       "logloss       12.085777  6.058388       8.558340"
      ]
     },
     "execution_count": 24,
     "metadata": {},
     "output_type": "execute_result"
    }
   ],
   "source": [
    "tree_metrics"
   ]
  },
  {
   "cell_type": "markdown",
   "id": "ff3d0021",
   "metadata": {},
   "source": [
    "###  Эффект значений гиперпараметра (количества деревьев в RF)\n",
    "На данном этапе постараемся разобраться в том, как результативность модели изменяется по мере изменения значений некоторого гиперпараметра. Для этого построим график валидационной кривой."
   ]
  },
  {
   "cell_type": "code",
   "execution_count": 61,
   "id": "012ad612",
   "metadata": {},
   "outputs": [],
   "source": [
    "train_scores, test_scores = validation_curve(RandomForestClassifier(max_features='sqrt',\n",
    "                                                                    random_state=RND_STATE,\n",
    "                                                                    class_weight = 'balanced'),\n",
    "                                             X_train,\n",
    "                                             y_train,\n",
    "                                             param_name='n_estimators',\n",
    "                                             param_range=np.arange(100, 2000, 100),\n",
    "                                             cv=3,\n",
    "                                             scoring='roc_auc',\n",
    "                                             n_jobs=-1)"
   ]
  },
  {
   "cell_type": "code",
   "execution_count": 62,
   "id": "8b6eb0ee",
   "metadata": {},
   "outputs": [
    {
     "data": {
      "image/png": "[encoded data removed]",
      "text/plain": [
       "<Figure size 432x288 with 1 Axes>"
      ]
     },
     "metadata": {
      "needs_background": "light"
     },
     "output_type": "display_data"
    }
   ],
   "source": [
    "train_mean = np.mean(train_scores, axis=1)\n",
    "train_std = np.std(train_scores, axis=1)\n",
    "# Вычислить среднее и стандартное отклонение для оценок\n",
    "# тестового набора\n",
    "test_mean = np.mean(test_scores, axis=1)\n",
    "test_std = np.std(test_scores, axis=1)\n",
    "# Построить график средних оценок точности\n",
    "# для тренировочного и тестового наборов\n",
    "plt.plot(np.arange(100, 2000, 100), train_mean, color=\"black\",\n",
    "         label=\"Тренировочная оценка\")\n",
    "plt.plot(np.arange(100, 2000, 100), test_mean, color=\"dimgrey\",\n",
    "         label=\"Перекрестно-проверочная оценка\")\n",
    "\n",
    "# Нанести полосы точности для тренировочного и тестового наборов\n",
    "plt.fill_between(np.arange(100, 2000, 100), train_mean - train_std,\n",
    "                 train_mean + train_std, color=\"gray\")\n",
    "plt.fill_between(np.arange(100, 2000, 100), test_mean - test_std,\n",
    "                 test_mean + test_std, color=\"gainsboro\")\n",
    "\n",
    "plt.title(\"Валидационная кривая RF при различных количествах деревьев\")\n",
    "plt.xlabel(\"Количество деревьев\")\n",
    "plt.ylabel(\"Оценка ROC_AUC\")\n",
    "plt.tight_layout()"
   ]
  },
  {
   "cell_type": "markdown",
   "id": "08ae6750",
   "metadata": {},
   "source": [
    "Можно заметить, что при увеличении количества деревьев свыше 750 не происходит значительного улучшения значений целевой метрики."
   ]
  },
  {
   "cell_type": "code",
   "execution_count": 47,
   "id": "74696f9d",
   "metadata": {},
   "outputs": [],
   "source": [
    "rf_grid = {\n",
    "    'n_estimators': np.arange(500, 1200, 100),\n",
    "    'max_features': ['auto', 'sqrt'],\n",
    "    'max_depth': np.append(np.linspace(10, 60, 6), [None]),\n",
    "    'min_samples_split': [2, 5, 10],\n",
    "    'min_samples_leaf': [1, 2, 4],\n",
    "    'bootstrap': [True, False]\n",
    "}"
   ]
  },
  {
   "cell_type": "code",
   "execution_count": 48,
   "id": "02d67afa",
   "metadata": {},
   "outputs": [],
   "source": [
    "rf = RandomForestClassifier(class_weight='balanced')\n",
    "\n",
    "strat_cv = StratifiedKFold(n_splits=3,\n",
    "                           shuffle=True)\n",
    "\n",
    "rf_tuned = GridSearchCV(estimator=rf,\n",
    "                        param_grid=rf_grid,\n",
    "                        scoring='roc_auc',\n",
    "                        cv = strat_cv,\n",
    "                        verbose=5,\n",
    "                        n_jobs=6)"
   ]
  },
  {
   "cell_type": "code",
   "execution_count": 49,
   "id": "7bb4b528",
   "metadata": {},
   "outputs": [],
   "source": [
    "!telegram-send 'RF random_grid fit started'"
   ]
  },
  {
   "cell_type": "code",
   "execution_count": 50,
   "id": "a20bf8a2",
   "metadata": {},
   "outputs": [
    {
     "name": "stdout",
     "output_type": "stream",
     "text": [
      "Fitting 3 folds for each of 1764 candidates, totalling 5292 fits\n"
     ]
    },
    {
     "name": "stderr",
     "output_type": "stream",
     "text": [
      "C:\\Program Files\\Python39\\lib\\site-packages\\sklearn\\model_selection\\_search.py:922: UserWarning: One or more of the test scores are non-finite: [0.7451495  0.74564276 0.74548747 ... 0.75644738 0.75649748 0.75655381]\n",
      "  warnings.warn(\n"
     ]
    },
    {
     "name": "stdout",
     "output_type": "stream",
     "text": [
      "Wall time: 3d 2h 2min 4s\n"
     ]
    },
    {
     "data": {
      "text/plain": [
       "GridSearchCV(cv=StratifiedKFold(n_splits=3, random_state=None, shuffle=True),\n",
       "             estimator=RandomForestClassifier(class_weight='balanced'),\n",
       "             n_jobs=6,\n",
       "             param_grid={'bootstrap': [True, False],\n",
       "                         'max_depth': array([10.0, 20.0, 30.0, 40.0, 50.0, 60.0, None], dtype=object),\n",
       "                         'max_features': ['auto', 'sqrt'],\n",
       "                         'min_samples_leaf': [1, 2, 4],\n",
       "                         'min_samples_split': [2, 5, 10],\n",
       "                         'n_estimators': array([ 500,  600,  700,  800,  900, 1000, 1100])},\n",
       "             scoring='roc_auc', verbose=5)"
      ]
     },
     "execution_count": 50,
     "metadata": {},
     "output_type": "execute_result"
    }
   ],
   "source": [
    "%%time\n",
    "rf_tuned.fit(X_train, y_train)"
   ]
  },
  {
   "cell_type": "code",
   "execution_count": 51,
   "id": "8b8c5a6b",
   "metadata": {},
   "outputs": [],
   "source": [
    "!telegram-send 'RF random_grid fit done'"
   ]
  },
  {
   "cell_type": "code",
   "execution_count": 52,
   "id": "ec350f14",
   "metadata": {},
   "outputs": [],
   "source": [
    "RF_best_params = rf_tuned.best_params_"
   ]
  },
  {
   "cell_type": "code",
   "execution_count": 55,
   "id": "aa721d77",
   "metadata": {},
   "outputs": [
    {
     "name": "stdout",
     "output_type": "stream",
     "text": [
      "{'bootstrap': True, 'max_depth': 60.0, 'max_features': 'sqrt', 'min_samples_leaf': 4, 'min_samples_split': 10, 'n_estimators': 900}\n"
     ]
    }
   ],
   "source": [
    "print(RF_best_params)"
   ]
  },
  {
   "cell_type": "code",
   "execution_count": 58,
   "id": "0daac42a",
   "metadata": {},
   "outputs": [],
   "source": [
    "RF_best_params = {\n",
    "    'bootstrap': True,\n",
    "    'max_depth': 60.0,\n",
    "    'max_features': 'sqrt',\n",
    "    'min_samples_leaf': 4,\n",
    "    'min_samples_split': 10,\n",
    "    'n_estimators': 900,\n",
    "    'oob_score':True,\n",
    "    'n_jobs':6}"
   ]
  },
  {
   "cell_type": "code",
   "execution_count": 59,
   "id": "3b8d71d7",
   "metadata": {},
   "outputs": [
    {
     "data": {
      "image/png": "[encoded data removed]",
      "text/plain": [
       "<Figure size 432x288 with 1 Axes>"
      ]
     },
     "metadata": {
      "needs_background": "light"
     },
     "output_type": "display_data"
    }
   ],
   "source": [
    "tuned_RF = make_tree_classifier(x_train=X_train,\n",
    "                                y_train=y_train,\n",
    "                                x_valid=X_valid,\n",
    "                                y_valid=y_valid,\n",
    "                                results_df=tree_metrics,\n",
    "                                model_name='tuned_RF',\n",
    "                                model_type='RF',\n",
    "                                parameters=RF_best_params)"
   ]
  },
  {
   "cell_type": "code",
   "execution_count": 60,
   "id": "eeb64ec8",
   "metadata": {},
   "outputs": [
    {
     "data": {
      "text/html": [
       "<div>\n",
       "<style scoped>\n",
       "    .dataframe tbody tr th:only-of-type {\n",
       "        vertical-align: middle;\n",
       "    }\n",
       "\n",
       "    .dataframe tbody tr th {\n",
       "        vertical-align: top;\n",
       "    }\n",
       "\n",
       "    .dataframe thead th {\n",
       "        text-align: right;\n",
       "    }\n",
       "</style>\n",
       "<table border=\"1\" class=\"dataframe\">\n",
       "  <thead>\n",
       "    <tr style=\"text-align: right;\">\n",
       "      <th></th>\n",
       "      <th>basic_tree</th>\n",
       "      <th>basic_RF</th>\n",
       "      <th>basic_RF_1000</th>\n",
       "      <th>tuned_RF</th>\n",
       "    </tr>\n",
       "  </thead>\n",
       "  <tbody>\n",
       "    <tr>\n",
       "      <th>roc-auc</th>\n",
       "      <td>0.679725</td>\n",
       "      <td>0.739555</td>\n",
       "      <td>0.746538</td>\n",
       "      <td>0.756434</td>\n",
       "    </tr>\n",
       "    <tr>\n",
       "      <th>roc-auc_oob</th>\n",
       "      <td>NaN</td>\n",
       "      <td>0.730259</td>\n",
       "      <td>0.749184</td>\n",
       "      <td>0.759853</td>\n",
       "    </tr>\n",
       "    <tr>\n",
       "      <th>precision</th>\n",
       "      <td>0.274826</td>\n",
       "      <td>0.509485</td>\n",
       "      <td>0.359080</td>\n",
       "      <td>0.365477</td>\n",
       "    </tr>\n",
       "    <tr>\n",
       "      <th>recall</th>\n",
       "      <td>0.602880</td>\n",
       "      <td>0.093362</td>\n",
       "      <td>0.519450</td>\n",
       "      <td>0.540805</td>\n",
       "    </tr>\n",
       "    <tr>\n",
       "      <th>f1</th>\n",
       "      <td>0.377546</td>\n",
       "      <td>0.157806</td>\n",
       "      <td>0.424628</td>\n",
       "      <td>0.436182</td>\n",
       "    </tr>\n",
       "    <tr>\n",
       "      <th>logloss</th>\n",
       "      <td>12.085777</td>\n",
       "      <td>6.058388</td>\n",
       "      <td>8.558340</td>\n",
       "      <td>8.499972</td>\n",
       "    </tr>\n",
       "  </tbody>\n",
       "</table>\n",
       "</div>"
      ],
      "text/plain": [
       "             basic_tree  basic_RF  basic_RF_1000  tuned_RF\n",
       "roc-auc        0.679725  0.739555       0.746538  0.756434\n",
       "roc-auc_oob         NaN  0.730259       0.749184  0.759853\n",
       "precision      0.274826  0.509485       0.359080  0.365477\n",
       "recall         0.602880  0.093362       0.519450  0.540805\n",
       "f1             0.377546  0.157806       0.424628  0.436182\n",
       "logloss       12.085777  6.058388       8.558340  8.499972"
      ]
     },
     "execution_count": 60,
     "metadata": {},
     "output_type": "execute_result"
    }
   ],
   "source": [
    "tree_metrics"
   ]
  },
  {
   "cell_type": "code",
   "execution_count": null,
   "id": "f750fcf8",
   "metadata": {},
   "outputs": [],
   "source": []
  },
  {
   "cell_type": "code",
   "execution_count": null,
   "id": "37f4633f",
   "metadata": {},
   "outputs": [],
   "source": []
  },
  {
   "cell_type": "code",
   "execution_count": null,
   "id": "52ded28d",
   "metadata": {},
   "outputs": [],
   "source": []
  }
 ],
 "metadata": {
  "kernelspec": {
   "display_name": "Python 3",
   "language": "python",
   "name": "python3"
  },
  "language_info": {
   "codemirror_mode": {
    "name": "ipython",
    "version": 3
   },
   "file_extension": ".py",
   "mimetype": "text/x-python",
   "name": "python",
   "nbconvert_exporter": "python",
   "pygments_lexer": "ipython3",
   "version": "3.9.5"
  }
 },
 "nbformat": 4,
 "nbformat_minor": 5
}
