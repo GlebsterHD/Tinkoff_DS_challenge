{
 "cells": [
  {
   "cell_type": "code",
   "execution_count": 19,
   "id": "cc185358",
   "metadata": {},
   "outputs": [],
   "source": [
    "import numpy as np\n",
    "import pandas as pd\n",
    "import matplotlib.pyplot as plt\n",
    "%matplotlib inline\n",
    "import seaborn as sns\n",
    "\n",
    "from sklearn.tree import DecisionTreeClassifier\n",
    "\n",
    "from sklearn.metrics import precision_score, recall_score, auc, accuracy_score, roc_auc_score, f1_score, log_loss,\\\n",
    "classification_report, roc_curve, confusion_matrix\n",
    "\n",
    "\n",
    "RND_STATE = 777"
   ]
  },
  {
   "cell_type": "code",
   "execution_count": 2,
   "id": "f3560460",
   "metadata": {},
   "outputs": [],
   "source": [
    "datasets_path = [\"Train_wo_na.csv\", \"Valid_wo_na.csv\", \"Control_wo_na.csv\"]\n",
    "\n",
    "train = pd.read_csv(fr'Data\\{datasets_path[0]}', encoding='cp1251', index_col = 0).copy()\n",
    "valid = pd.read_csv(fr'Data\\{datasets_path[1]}', encoding='cp1251', index_col = 0).copy()\n",
    "test = pd.read_csv(fr'Data\\{datasets_path[2]}', encoding='cp1251', index_col = 0).copy()"
   ]
  },
  {
   "cell_type": "code",
   "execution_count": 14,
   "id": "b91415d6",
   "metadata": {},
   "outputs": [],
   "source": [
    "cat_cols = train.dtypes[train.dtypes == 'object'].index\n",
    "\n",
    "train_label = pd.get_dummies(train, columns=cat_cols, drop_first=True)\n",
    "valid_label = pd.get_dummies(valid, columns=cat_cols, drop_first=True)\n",
    "test_label = pd.get_dummies(test, columns=cat_cols, drop_first=True)"
   ]
  },
  {
   "cell_type": "code",
   "execution_count": 15,
   "id": "a1308c93",
   "metadata": {},
   "outputs": [],
   "source": [
    "X_train = train_label.drop('open_account_flg', axis=1)\n",
    "y_train = train_label['open_account_flg']\n",
    "\n",
    "X_valid = valid_label.drop('open_account_flg', axis=1)\n",
    "y_valid = valid_label['open_account_flg']\n",
    "\n",
    "X_test = test_label.drop('open_account_flg', axis=1)\n",
    "y_test = test_label['open_account_flg']"
   ]
  },
  {
   "cell_type": "markdown",
   "id": "1a358421",
   "metadata": {},
   "source": [
    "Сейчас мы посмотрим как работают деревья решений и так называемые ансамблевые методы, когда применяется несколько деревьев и проводится голосование. Два основных типа ансамблей - бэггинг и бустинг. \n",
    "\n",
    "Бэггинг предполагает создание нескольких деревьев. Каждое дерево тренируется на наборе данных, который извлечен из наших базовых наборов путем отбора наблюдений и признаков.\n",
    "\n",
    "Бустинг предполагает также создание нескольких деревьев. Но деревья тренируются не параллельно, а последовательно. Причем на каждом последующем шаге учитываются результаты предыдущего. \n",
    "\n",
    "Рекомендую ознакомиться с этими методами по книге Практическая статистика для специалистов Data Science (Питер Брюс, Эндрю Брюс). Хороший материал по деревьям [здесь](https://loginom.ru/blog/decision-tree-p1)"
   ]
  },
  {
   "cell_type": "code",
   "execution_count": 16,
   "id": "2c5f327a",
   "metadata": {},
   "outputs": [],
   "source": [
    "lr_metrics = pd.DataFrame(index=['roc-auc', 'precision',\n",
    "                                 'recall', 'f1', 'logloss'])"
   ]
  },
  {
   "cell_type": "code",
   "execution_count": 21,
   "id": "68713ee4",
   "metadata": {},
   "outputs": [],
   "source": [
    "def make_tree_classifier(x_train, y_train, x_valid, y_valid, results_df, model_name,\n",
    "                         model_type, parameters={'min_samples_leaf':20}):\n",
    "    model_types={\n",
    "        'tree':DecisionTreeClassifier,\n",
    "        'RF':RandomForestClassifier\n",
    "    }\n",
    "    \n",
    "    model = model_types[model_type](**parameters,\n",
    "                                     class_weight = 'balanced',\n",
    "                                     random_state=RND_STATE)\n",
    "    model.fit(x_train, y_train)\n",
    "    \n",
    "    y_pred = model.predict(x_valid)\n",
    "    y_score = model.predict_proba(x_valid)[:,1]\n",
    "    \n",
    "    results_df[model_name] = [roc_auc_score(y_valid, y_score),\n",
    "                              precision_score(y_valid, y_pred),\n",
    "                              recall_score(y_valid, y_pred),\n",
    "                              f1_score(y_valid, y_pred),\n",
    "                              log_loss(y_valid, y_pred)]\n",
    "    \n",
    "    fpr_baseline, tpr_baseline, thresholds = roc_curve(y_valid, y_score)\n",
    "\n",
    "    roc_auc_baseline = auc(fpr_baseline, tpr_baseline)\n",
    "\n",
    "    plt.plot(fpr_baseline, tpr_baseline, color='orange',\n",
    "             label=f'ROC curve (area = {roc_auc_baseline:.3f})')\n",
    "    plt.plot([0, 1], [0, 1], color='navy', lw=2, linestyle='--')\n",
    "    plt.xlim([0.0, 1.0])\n",
    "    plt.ylim([0.0, 1.05])\n",
    "\n",
    "    plt.xlabel('False Positive Rate')\n",
    "    plt.ylabel('True Positive Rate')\n",
    "\n",
    "    plt.title('Tree-based classifier ROC AUC')\n",
    "    plt.legend(loc=\"lower right\")\n",
    "    plt.show()\n",
    "    return model"
   ]
  },
  {
   "cell_type": "code",
   "execution_count": 20,
   "id": "25a40103",
   "metadata": {},
   "outputs": [
    {
     "data": {
      "image/png": "[encoded data removed]",
      "text/plain": [
       "<Figure size 432x288 with 1 Axes>"
      ]
     },
     "metadata": {
      "needs_background": "light"
     },
     "output_type": "display_data"
    }
   ],
   "source": [
    "basic_tree = make_tree_classifier(x_train=X_train,\n",
    "                                  y_train=y_train,\n",
    "                                  x_valid=X_valid,\n",
    "                                  y_valid=y_valid,\n",
    "                                  results_df=lr_metrics,\n",
    "                                  model_name='basic_tree',\n",
    "                                  model_type='tree')"
   ]
  },
  {
   "cell_type": "code",
   "execution_count": 22,
   "id": "9da1b1a1",
   "metadata": {},
   "outputs": [
    {
     "data": {
      "text/html": [
       "<div>\n",
       "<style scoped>\n",
       "    .dataframe tbody tr th:only-of-type {\n",
       "        vertical-align: middle;\n",
       "    }\n",
       "\n",
       "    .dataframe tbody tr th {\n",
       "        vertical-align: top;\n",
       "    }\n",
       "\n",
       "    .dataframe thead th {\n",
       "        text-align: right;\n",
       "    }\n",
       "</style>\n",
       "<table border=\"1\" class=\"dataframe\">\n",
       "  <thead>\n",
       "    <tr style=\"text-align: right;\">\n",
       "      <th></th>\n",
       "      <th>basic_tree</th>\n",
       "    </tr>\n",
       "  </thead>\n",
       "  <tbody>\n",
       "    <tr>\n",
       "      <th>roc-auc</th>\n",
       "      <td>0.679725</td>\n",
       "    </tr>\n",
       "    <tr>\n",
       "      <th>precision</th>\n",
       "      <td>0.274826</td>\n",
       "    </tr>\n",
       "    <tr>\n",
       "      <th>recall</th>\n",
       "      <td>0.602880</td>\n",
       "    </tr>\n",
       "    <tr>\n",
       "      <th>f1</th>\n",
       "      <td>0.377546</td>\n",
       "    </tr>\n",
       "    <tr>\n",
       "      <th>logloss</th>\n",
       "      <td>12.085777</td>\n",
       "    </tr>\n",
       "  </tbody>\n",
       "</table>\n",
       "</div>"
      ],
      "text/plain": [
       "           basic_tree\n",
       "roc-auc      0.679725\n",
       "precision    0.274826\n",
       "recall       0.602880\n",
       "f1           0.377546\n",
       "logloss     12.085777"
      ]
     },
     "execution_count": 22,
     "metadata": {},
     "output_type": "execute_result"
    }
   ],
   "source": [
    "lr_metrics"
   ]
  },
  {
   "cell_type": "code",
   "execution_count": null,
   "id": "ec5b4a17",
   "metadata": {},
   "outputs": [],
   "source": [
    "decision_tree = DecisionTreeClassifier"
   ]
  },
  {
   "cell_type": "code",
   "execution_count": 7,
   "id": "df0815f0",
   "metadata": {},
   "outputs": [
    {
     "name": "stdout",
     "output_type": "stream",
     "text": [
      "Object `DecisionTreeClassifier` not found.\n"
     ]
    }
   ],
   "source": [
    "DecisionTreeClassifier?"
   ]
  },
  {
   "cell_type": "code",
   "execution_count": null,
   "id": "f0bb9eb9",
   "metadata": {},
   "outputs": [],
   "source": []
  },
  {
   "cell_type": "code",
   "execution_count": null,
   "id": "daf9d9d4",
   "metadata": {},
   "outputs": [],
   "source": []
  },
  {
   "cell_type": "code",
   "execution_count": null,
   "id": "6ee23500",
   "metadata": {},
   "outputs": [],
   "source": []
  },
  {
   "cell_type": "code",
   "execution_count": null,
   "id": "31218e42",
   "metadata": {},
   "outputs": [],
   "source": []
  }
 ],
 "metadata": {
  "kernelspec": {
   "display_name": "Python 3",
   "language": "python",
   "name": "python3"
  },
  "language_info": {
   "codemirror_mode": {
    "name": "ipython",
    "version": 3
   },
   "file_extension": ".py",
   "mimetype": "text/x-python",
   "name": "python",
   "nbconvert_exporter": "python",
   "pygments_lexer": "ipython3",
   "version": "3.9.5"
  }
 },
 "nbformat": 4,
 "nbformat_minor": 5
}
